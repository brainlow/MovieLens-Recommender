{
 "cells": [
  {
   "cell_type": "code",
   "execution_count": 1,
   "id": "2881d08e",
   "metadata": {},
   "outputs": [],
   "source": [
    "import pandas as pd\n",
    "import matplotlib.pyplot as plt\n",
    "import seaborn as sns\n",
    "import missingno as msno\n",
    "import numpy as np\n",
    "from sklearn.model_selection import train_test_split\n",
    "from sklearn.linear_model import LinearRegression\n",
    "from sklearn.metrics import mean_squared_error\n",
    "from surprise import SVD, Dataset, Reader\n",
    "from surprise.model_selection import train_test_split\n",
    "from surprise import accuracy"
   ]
  },
  {
   "cell_type": "markdown",
   "id": "17c94b4c",
   "metadata": {},
   "source": [
    "### The Data"
   ]
  },
  {
   "cell_type": "code",
   "execution_count": 2,
   "id": "de4de269",
   "metadata": {},
   "outputs": [],
   "source": [
    "genome_scores = pd.read_csv(\"data/genome_scores.csv\")\n",
    "genome_tags = pd.read_csv(\"data/genome_tags.csv\")\n",
    "\n",
    "# Small Dataset\n",
    "links = pd.read_csv(\"data/links.csv\")\n",
    "movies = pd.read_csv(\"data/movies.csv\")\n",
    "ratings = pd.read_csv(\"data/ratings.csv\")\n",
    "tags = pd.read_csv(\"data/tags.csv\")"
   ]
  },
  {
   "cell_type": "markdown",
   "id": "d102ac6a",
   "metadata": {},
   "source": [
    "#### Some helper functions"
   ]
  },
  {
   "cell_type": "code",
   "execution_count": 3,
   "id": "5b3aa283",
   "metadata": {},
   "outputs": [],
   "source": [
    "# col_list function\n",
    "def col_list(x):\n",
    "    return list(x.columns.values.tolist())\n",
    "\n",
    "# count blanks function\n",
    "def count_blanks(df):\n",
    "    x = col_list(df)\n",
    "    rows = df.shape[0]\n",
    "    for i in x:\n",
    "        c = (df[i].isna()).sum()\n",
    "        print(f\"The column, {i}, has {c} blanks out of {rows:,} rows ({c/rows:.1%}).\")"
   ]
  },
  {
   "cell_type": "markdown",
   "id": "79ea7fce",
   "metadata": {},
   "source": [
    "<a id='eda'></a>\n",
    "# EDA"
   ]
  },
  {
   "cell_type": "markdown",
   "id": "c6a08a8a",
   "metadata": {},
   "source": [
    "### **Genome Scores**\n"
   ]
  },
  {
   "cell_type": "code",
   "execution_count": 4,
   "id": "572126f7",
   "metadata": {},
   "outputs": [
    {
     "data": {
      "text/html": [
       "<div>\n",
       "<style scoped>\n",
       "    .dataframe tbody tr th:only-of-type {\n",
       "        vertical-align: middle;\n",
       "    }\n",
       "\n",
       "    .dataframe tbody tr th {\n",
       "        vertical-align: top;\n",
       "    }\n",
       "\n",
       "    .dataframe thead th {\n",
       "        text-align: right;\n",
       "    }\n",
       "</style>\n",
       "<table border=\"1\" class=\"dataframe\">\n",
       "  <thead>\n",
       "    <tr style=\"text-align: right;\">\n",
       "      <th></th>\n",
       "      <th>movieId</th>\n",
       "      <th>tagId</th>\n",
       "      <th>relevance</th>\n",
       "    </tr>\n",
       "  </thead>\n",
       "  <tbody>\n",
       "    <tr>\n",
       "      <th>0</th>\n",
       "      <td>1</td>\n",
       "      <td>1</td>\n",
       "      <td>0.02500</td>\n",
       "    </tr>\n",
       "    <tr>\n",
       "      <th>1</th>\n",
       "      <td>1</td>\n",
       "      <td>2</td>\n",
       "      <td>0.02500</td>\n",
       "    </tr>\n",
       "    <tr>\n",
       "      <th>2</th>\n",
       "      <td>1</td>\n",
       "      <td>3</td>\n",
       "      <td>0.05775</td>\n",
       "    </tr>\n",
       "    <tr>\n",
       "      <th>3</th>\n",
       "      <td>1</td>\n",
       "      <td>4</td>\n",
       "      <td>0.09675</td>\n",
       "    </tr>\n",
       "    <tr>\n",
       "      <th>4</th>\n",
       "      <td>1</td>\n",
       "      <td>5</td>\n",
       "      <td>0.14675</td>\n",
       "    </tr>\n",
       "  </tbody>\n",
       "</table>\n",
       "</div>"
      ],
      "text/plain": [
       "   movieId  tagId  relevance\n",
       "0        1      1    0.02500\n",
       "1        1      2    0.02500\n",
       "2        1      3    0.05775\n",
       "3        1      4    0.09675\n",
       "4        1      5    0.14675"
      ]
     },
     "execution_count": 4,
     "metadata": {},
     "output_type": "execute_result"
    }
   ],
   "source": [
    "genome_scores.head()"
   ]
  },
  {
   "cell_type": "code",
   "execution_count": 5,
   "id": "ab4fe4da",
   "metadata": {},
   "outputs": [
    {
     "data": {
      "text/plain": [
       "count    1.170977e+07\n",
       "mean     1.164833e-01\n",
       "std      1.542463e-01\n",
       "min      2.500000e-04\n",
       "25%      2.425000e-02\n",
       "50%      5.650000e-02\n",
       "75%      1.415000e-01\n",
       "max      1.000000e+00\n",
       "Name: relevance, dtype: float64"
      ]
     },
     "execution_count": 5,
     "metadata": {},
     "output_type": "execute_result"
    }
   ],
   "source": [
    "genome_scores.describe()['relevance']"
   ]
  },
  {
   "cell_type": "code",
   "execution_count": 6,
   "id": "8eb0bfd4",
   "metadata": {},
   "outputs": [
    {
     "name": "stdout",
     "output_type": "stream",
     "text": [
      "The column, movieId, has 0 blanks out of 11,709,768 rows (0.0%).\n",
      "The column, tagId, has 0 blanks out of 11,709,768 rows (0.0%).\n",
      "The column, relevance, has 0 blanks out of 11,709,768 rows (0.0%).\n"
     ]
    }
   ],
   "source": [
    "count_blanks(genome_scores)"
   ]
  },
  {
   "cell_type": "code",
   "execution_count": 7,
   "id": "9e20dd8a",
   "metadata": {},
   "outputs": [
    {
     "data": {
      "text/plain": [
       "movieId        int64\n",
       "tagId          int64\n",
       "relevance    float64\n",
       "dtype: object"
      ]
     },
     "execution_count": 7,
     "metadata": {},
     "output_type": "execute_result"
    }
   ],
   "source": [
    "genome_scores.dtypes"
   ]
  },
  {
   "cell_type": "markdown",
   "id": "b27234f1",
   "metadata": {},
   "source": [
    "### Genome Tags"
   ]
  },
  {
   "cell_type": "code",
   "execution_count": 8,
   "id": "8a792bac",
   "metadata": {},
   "outputs": [
    {
     "data": {
      "text/html": [
       "<div>\n",
       "<style scoped>\n",
       "    .dataframe tbody tr th:only-of-type {\n",
       "        vertical-align: middle;\n",
       "    }\n",
       "\n",
       "    .dataframe tbody tr th {\n",
       "        vertical-align: top;\n",
       "    }\n",
       "\n",
       "    .dataframe thead th {\n",
       "        text-align: right;\n",
       "    }\n",
       "</style>\n",
       "<table border=\"1\" class=\"dataframe\">\n",
       "  <thead>\n",
       "    <tr style=\"text-align: right;\">\n",
       "      <th></th>\n",
       "      <th>tagId</th>\n",
       "      <th>tag</th>\n",
       "    </tr>\n",
       "  </thead>\n",
       "  <tbody>\n",
       "    <tr>\n",
       "      <th>0</th>\n",
       "      <td>1</td>\n",
       "      <td>007</td>\n",
       "    </tr>\n",
       "    <tr>\n",
       "      <th>1</th>\n",
       "      <td>2</td>\n",
       "      <td>007 (series)</td>\n",
       "    </tr>\n",
       "    <tr>\n",
       "      <th>2</th>\n",
       "      <td>3</td>\n",
       "      <td>18th century</td>\n",
       "    </tr>\n",
       "    <tr>\n",
       "      <th>3</th>\n",
       "      <td>4</td>\n",
       "      <td>1920s</td>\n",
       "    </tr>\n",
       "    <tr>\n",
       "      <th>4</th>\n",
       "      <td>5</td>\n",
       "      <td>1930s</td>\n",
       "    </tr>\n",
       "  </tbody>\n",
       "</table>\n",
       "</div>"
      ],
      "text/plain": [
       "   tagId           tag\n",
       "0      1           007\n",
       "1      2  007 (series)\n",
       "2      3  18th century\n",
       "3      4         1920s\n",
       "4      5         1930s"
      ]
     },
     "execution_count": 8,
     "metadata": {},
     "output_type": "execute_result"
    }
   ],
   "source": [
    "genome_tags.head()"
   ]
  },
  {
   "cell_type": "code",
   "execution_count": 9,
   "id": "e225240f",
   "metadata": {},
   "outputs": [
    {
     "name": "stdout",
     "output_type": "stream",
     "text": [
      "The column, movieId, has 0 blanks out of 11,709,768 rows (0.0%).\n",
      "The column, tagId, has 0 blanks out of 11,709,768 rows (0.0%).\n",
      "The column, relevance, has 0 blanks out of 11,709,768 rows (0.0%).\n"
     ]
    }
   ],
   "source": [
    "count_blanks(genome_scores)"
   ]
  },
  {
   "cell_type": "markdown",
   "id": "955b1bc8",
   "metadata": {},
   "source": [
    "### Tags\n"
   ]
  },
  {
   "cell_type": "code",
   "execution_count": 10,
   "id": "a852bad3",
   "metadata": {},
   "outputs": [
    {
     "data": {
      "text/html": [
       "<div>\n",
       "<style scoped>\n",
       "    .dataframe tbody tr th:only-of-type {\n",
       "        vertical-align: middle;\n",
       "    }\n",
       "\n",
       "    .dataframe tbody tr th {\n",
       "        vertical-align: top;\n",
       "    }\n",
       "\n",
       "    .dataframe thead th {\n",
       "        text-align: right;\n",
       "    }\n",
       "</style>\n",
       "<table border=\"1\" class=\"dataframe\">\n",
       "  <thead>\n",
       "    <tr style=\"text-align: right;\">\n",
       "      <th></th>\n",
       "      <th>userId</th>\n",
       "      <th>movieId</th>\n",
       "      <th>tag</th>\n",
       "      <th>timestamp</th>\n",
       "    </tr>\n",
       "  </thead>\n",
       "  <tbody>\n",
       "    <tr>\n",
       "      <th>0</th>\n",
       "      <td>2</td>\n",
       "      <td>60756</td>\n",
       "      <td>funny</td>\n",
       "      <td>1445714994</td>\n",
       "    </tr>\n",
       "    <tr>\n",
       "      <th>1</th>\n",
       "      <td>2</td>\n",
       "      <td>60756</td>\n",
       "      <td>Highly quotable</td>\n",
       "      <td>1445714996</td>\n",
       "    </tr>\n",
       "    <tr>\n",
       "      <th>2</th>\n",
       "      <td>2</td>\n",
       "      <td>60756</td>\n",
       "      <td>will ferrell</td>\n",
       "      <td>1445714992</td>\n",
       "    </tr>\n",
       "    <tr>\n",
       "      <th>3</th>\n",
       "      <td>2</td>\n",
       "      <td>89774</td>\n",
       "      <td>Boxing story</td>\n",
       "      <td>1445715207</td>\n",
       "    </tr>\n",
       "    <tr>\n",
       "      <th>4</th>\n",
       "      <td>2</td>\n",
       "      <td>89774</td>\n",
       "      <td>MMA</td>\n",
       "      <td>1445715200</td>\n",
       "    </tr>\n",
       "  </tbody>\n",
       "</table>\n",
       "</div>"
      ],
      "text/plain": [
       "   userId  movieId              tag   timestamp\n",
       "0       2    60756            funny  1445714994\n",
       "1       2    60756  Highly quotable  1445714996\n",
       "2       2    60756     will ferrell  1445714992\n",
       "3       2    89774     Boxing story  1445715207\n",
       "4       2    89774              MMA  1445715200"
      ]
     },
     "execution_count": 10,
     "metadata": {},
     "output_type": "execute_result"
    }
   ],
   "source": [
    "tags.head()"
   ]
  },
  {
   "cell_type": "code",
   "execution_count": 11,
   "id": "0e21b97b",
   "metadata": {},
   "outputs": [
    {
     "data": {
      "text/plain": [
       "userId        int64\n",
       "movieId       int64\n",
       "tag          object\n",
       "timestamp     int64\n",
       "dtype: object"
      ]
     },
     "execution_count": 11,
     "metadata": {},
     "output_type": "execute_result"
    }
   ],
   "source": [
    "tags.dtypes"
   ]
  },
  {
   "cell_type": "code",
   "execution_count": 12,
   "id": "67cd32c8",
   "metadata": {},
   "outputs": [
    {
     "data": {
      "text/plain": [
       "tag\n",
       "In Netflix queue     131\n",
       "atmospheric           36\n",
       "thought-provoking     24\n",
       "superhero             24\n",
       "funny                 23\n",
       "                    ... \n",
       "small towns            1\n",
       "In Your Eyes           1\n",
       "Lloyd Dobbler          1\n",
       "weak plot              1\n",
       "Heroic Bloodshed       1\n",
       "Name: count, Length: 1589, dtype: int64"
      ]
     },
     "execution_count": 12,
     "metadata": {},
     "output_type": "execute_result"
    }
   ],
   "source": [
    "tags.tag.value_counts()"
   ]
  },
  {
   "cell_type": "code",
   "execution_count": 13,
   "id": "59318d42",
   "metadata": {},
   "outputs": [
    {
     "name": "stdout",
     "output_type": "stream",
     "text": [
      "The column, userId, has 0 blanks out of 3,683 rows (0.0%).\n",
      "The column, movieId, has 0 blanks out of 3,683 rows (0.0%).\n",
      "The column, tag, has 0 blanks out of 3,683 rows (0.0%).\n",
      "The column, timestamp, has 0 blanks out of 3,683 rows (0.0%).\n"
     ]
    }
   ],
   "source": [
    "count_blanks(tags)"
   ]
  },
  {
   "cell_type": "code",
   "execution_count": null,
   "id": "02251194",
   "metadata": {},
   "outputs": [],
   "source": []
  },
  {
   "cell_type": "markdown",
   "id": "9aadeee3",
   "metadata": {},
   "source": [
    "### Ratings\n"
   ]
  },
  {
   "cell_type": "code",
   "execution_count": 14,
   "id": "f3335647",
   "metadata": {},
   "outputs": [
    {
     "data": {
      "text/html": [
       "<div>\n",
       "<style scoped>\n",
       "    .dataframe tbody tr th:only-of-type {\n",
       "        vertical-align: middle;\n",
       "    }\n",
       "\n",
       "    .dataframe tbody tr th {\n",
       "        vertical-align: top;\n",
       "    }\n",
       "\n",
       "    .dataframe thead th {\n",
       "        text-align: right;\n",
       "    }\n",
       "</style>\n",
       "<table border=\"1\" class=\"dataframe\">\n",
       "  <thead>\n",
       "    <tr style=\"text-align: right;\">\n",
       "      <th></th>\n",
       "      <th>userId</th>\n",
       "      <th>movieId</th>\n",
       "      <th>rating</th>\n",
       "      <th>timestamp</th>\n",
       "    </tr>\n",
       "  </thead>\n",
       "  <tbody>\n",
       "    <tr>\n",
       "      <th>0</th>\n",
       "      <td>1</td>\n",
       "      <td>1</td>\n",
       "      <td>4.0</td>\n",
       "      <td>964982703</td>\n",
       "    </tr>\n",
       "    <tr>\n",
       "      <th>1</th>\n",
       "      <td>1</td>\n",
       "      <td>3</td>\n",
       "      <td>4.0</td>\n",
       "      <td>964981247</td>\n",
       "    </tr>\n",
       "    <tr>\n",
       "      <th>2</th>\n",
       "      <td>1</td>\n",
       "      <td>6</td>\n",
       "      <td>4.0</td>\n",
       "      <td>964982224</td>\n",
       "    </tr>\n",
       "    <tr>\n",
       "      <th>3</th>\n",
       "      <td>1</td>\n",
       "      <td>47</td>\n",
       "      <td>5.0</td>\n",
       "      <td>964983815</td>\n",
       "    </tr>\n",
       "    <tr>\n",
       "      <th>4</th>\n",
       "      <td>1</td>\n",
       "      <td>50</td>\n",
       "      <td>5.0</td>\n",
       "      <td>964982931</td>\n",
       "    </tr>\n",
       "  </tbody>\n",
       "</table>\n",
       "</div>"
      ],
      "text/plain": [
       "   userId  movieId  rating  timestamp\n",
       "0       1        1     4.0  964982703\n",
       "1       1        3     4.0  964981247\n",
       "2       1        6     4.0  964982224\n",
       "3       1       47     5.0  964983815\n",
       "4       1       50     5.0  964982931"
      ]
     },
     "execution_count": 14,
     "metadata": {},
     "output_type": "execute_result"
    }
   ],
   "source": [
    "ratings.head()"
   ]
  },
  {
   "cell_type": "code",
   "execution_count": 15,
   "id": "758a8f36",
   "metadata": {},
   "outputs": [
    {
     "data": {
      "text/plain": [
       "userId         int64\n",
       "movieId        int64\n",
       "rating       float64\n",
       "timestamp      int64\n",
       "dtype: object"
      ]
     },
     "execution_count": 15,
     "metadata": {},
     "output_type": "execute_result"
    }
   ],
   "source": [
    "ratings.dtypes"
   ]
  },
  {
   "cell_type": "code",
   "execution_count": 16,
   "id": "3f627600",
   "metadata": {},
   "outputs": [
    {
     "name": "stdout",
     "output_type": "stream",
     "text": [
      "The column, userId, has 0 blanks out of 100,836 rows (0.0%).\n",
      "The column, movieId, has 0 blanks out of 100,836 rows (0.0%).\n",
      "The column, rating, has 0 blanks out of 100,836 rows (0.0%).\n",
      "The column, timestamp, has 0 blanks out of 100,836 rows (0.0%).\n"
     ]
    }
   ],
   "source": [
    "count_blanks(ratings)"
   ]
  },
  {
   "cell_type": "code",
   "execution_count": 17,
   "id": "956b3ea1",
   "metadata": {},
   "outputs": [
    {
     "name": "stdout",
     "output_type": "stream",
     "text": [
      "610 total users\n"
     ]
    }
   ],
   "source": [
    "unique_users = (ratings.userId.unique())\n",
    "print(f\"{unique_users.size:,} total users\")"
   ]
  },
  {
   "cell_type": "code",
   "execution_count": 18,
   "id": "08c64132",
   "metadata": {},
   "outputs": [
    {
     "name": "stdout",
     "output_type": "stream",
     "text": [
      "165.3 avg ratings by user\n",
      "70.5 avg ratings by user\n"
     ]
    }
   ],
   "source": [
    "users = ratings.groupby(['userId'])['userId'].count()\n",
    "print(f\"{users.mean():.1f} avg ratings by user\")\n",
    "print(f\"{users.median():.1f} avg ratings by user\")"
   ]
  },
  {
   "cell_type": "code",
   "execution_count": 19,
   "id": "e825b823",
   "metadata": {},
   "outputs": [
    {
     "data": {
      "text/html": [
       "<div>\n",
       "<style scoped>\n",
       "    .dataframe tbody tr th:only-of-type {\n",
       "        vertical-align: middle;\n",
       "    }\n",
       "\n",
       "    .dataframe tbody tr th {\n",
       "        vertical-align: top;\n",
       "    }\n",
       "\n",
       "    .dataframe thead th {\n",
       "        text-align: right;\n",
       "    }\n",
       "</style>\n",
       "<table border=\"1\" class=\"dataframe\">\n",
       "  <thead>\n",
       "    <tr style=\"text-align: right;\">\n",
       "      <th></th>\n",
       "      <th>userId</th>\n",
       "      <th>no_of_ratings</th>\n",
       "      <th>mean_rating</th>\n",
       "    </tr>\n",
       "  </thead>\n",
       "  <tbody>\n",
       "    <tr>\n",
       "      <th>0</th>\n",
       "      <td>1</td>\n",
       "      <td>232</td>\n",
       "      <td>4.366379</td>\n",
       "    </tr>\n",
       "    <tr>\n",
       "      <th>1</th>\n",
       "      <td>2</td>\n",
       "      <td>29</td>\n",
       "      <td>3.948276</td>\n",
       "    </tr>\n",
       "    <tr>\n",
       "      <th>2</th>\n",
       "      <td>3</td>\n",
       "      <td>39</td>\n",
       "      <td>2.435897</td>\n",
       "    </tr>\n",
       "    <tr>\n",
       "      <th>3</th>\n",
       "      <td>4</td>\n",
       "      <td>216</td>\n",
       "      <td>3.555556</td>\n",
       "    </tr>\n",
       "    <tr>\n",
       "      <th>4</th>\n",
       "      <td>5</td>\n",
       "      <td>44</td>\n",
       "      <td>3.636364</td>\n",
       "    </tr>\n",
       "  </tbody>\n",
       "</table>\n",
       "</div>"
      ],
      "text/plain": [
       "   userId  no_of_ratings  mean_rating\n",
       "0       1            232     4.366379\n",
       "1       2             29     3.948276\n",
       "2       3             39     2.435897\n",
       "3       4            216     3.555556\n",
       "4       5             44     3.636364"
      ]
     },
     "execution_count": 19,
     "metadata": {},
     "output_type": "execute_result"
    }
   ],
   "source": [
    "aggregated_ratings = ratings.groupby('userId') \\\n",
    "       .agg({'movieId':'count', 'rating':'mean'}) \\\n",
    "       .rename(columns={'movieId':'no_of_ratings','rating':'mean_rating'}) \\\n",
    "       .reset_index()\n",
    "aggregated_ratings.head()"
   ]
  },
  {
   "cell_type": "code",
   "execution_count": 20,
   "id": "813a2aa9",
   "metadata": {},
   "outputs": [
    {
     "data": {
      "text/plain": [
       "count     610.000000\n",
       "mean      165.304918\n",
       "std       269.480584\n",
       "min        20.000000\n",
       "25%        35.000000\n",
       "50%        70.500000\n",
       "75%       168.000000\n",
       "max      2698.000000\n",
       "Name: no_of_ratings, dtype: float64"
      ]
     },
     "execution_count": 20,
     "metadata": {},
     "output_type": "execute_result"
    }
   ],
   "source": [
    "aggregated_ratings.no_of_ratings.describe()"
   ]
  },
  {
   "cell_type": "code",
   "execution_count": 21,
   "id": "aaadfcba",
   "metadata": {},
   "outputs": [
    {
     "data": {
      "text/html": [
       "<div>\n",
       "<style scoped>\n",
       "    .dataframe tbody tr th:only-of-type {\n",
       "        vertical-align: middle;\n",
       "    }\n",
       "\n",
       "    .dataframe tbody tr th {\n",
       "        vertical-align: top;\n",
       "    }\n",
       "\n",
       "    .dataframe thead th {\n",
       "        text-align: right;\n",
       "    }\n",
       "</style>\n",
       "<table border=\"1\" class=\"dataframe\">\n",
       "  <thead>\n",
       "    <tr style=\"text-align: right;\">\n",
       "      <th></th>\n",
       "      <th>userId</th>\n",
       "      <th>date_min</th>\n",
       "      <th>date_max</th>\n",
       "      <th>user_days</th>\n",
       "    </tr>\n",
       "  </thead>\n",
       "  <tbody>\n",
       "    <tr>\n",
       "      <th>0</th>\n",
       "      <td>1</td>\n",
       "      <td>2000-07-30 18:08:19</td>\n",
       "      <td>2000-08-08 07:27:42</td>\n",
       "      <td>8.555127</td>\n",
       "    </tr>\n",
       "    <tr>\n",
       "      <th>3</th>\n",
       "      <td>4</td>\n",
       "      <td>1999-12-13 09:47:08</td>\n",
       "      <td>2001-12-05 17:49:02</td>\n",
       "      <td>723.334653</td>\n",
       "    </tr>\n",
       "    <tr>\n",
       "      <th>6</th>\n",
       "      <td>7</td>\n",
       "      <td>2005-01-25 06:43:36</td>\n",
       "      <td>2007-04-10 05:08:51</td>\n",
       "      <td>804.934201</td>\n",
       "    </tr>\n",
       "    <tr>\n",
       "      <th>9</th>\n",
       "      <td>10</td>\n",
       "      <td>2016-02-12 18:25:53</td>\n",
       "      <td>2016-02-16 10:41:15</td>\n",
       "      <td>3.677338</td>\n",
       "    </tr>\n",
       "    <tr>\n",
       "      <th>10</th>\n",
       "      <td>11</td>\n",
       "      <td>1998-07-23 13:20:37</td>\n",
       "      <td>1998-08-30 20:56:07</td>\n",
       "      <td>38.316319</td>\n",
       "    </tr>\n",
       "  </tbody>\n",
       "</table>\n",
       "</div>"
      ],
      "text/plain": [
       "    userId            date_min            date_max   user_days\n",
       "0        1 2000-07-30 18:08:19 2000-08-08 07:27:42    8.555127\n",
       "3        4 1999-12-13 09:47:08 2001-12-05 17:49:02  723.334653\n",
       "6        7 2005-01-25 06:43:36 2007-04-10 05:08:51  804.934201\n",
       "9       10 2016-02-12 18:25:53 2016-02-16 10:41:15    3.677338\n",
       "10      11 1998-07-23 13:20:37 1998-08-30 20:56:07   38.316319"
      ]
     },
     "execution_count": 21,
     "metadata": {},
     "output_type": "execute_result"
    }
   ],
   "source": [
    "from datetime import datetime\n",
    "ratings['date'] = pd.to_datetime(ratings['timestamp'], unit='s')\n",
    "\n",
    "user_lifetime = ratings.groupby('userId') \\\n",
    "       .agg({'date': ['min', 'max']}) \\\n",
    "       .reset_index()\n",
    "user_lifetime.columns = user_lifetime.columns.map('_'.join).str.strip('_')\n",
    "user_lifetime['user_days'] = (user_lifetime['date_max'] - user_lifetime['date_min']).dt.total_seconds() / 86_400\n",
    "user_lifetime = user_lifetime.loc[user_lifetime['user_days'] > 1]\n",
    "user_lifetime.head()"
   ]
  },
  {
   "cell_type": "code",
   "execution_count": 22,
   "id": "defdb33c",
   "metadata": {},
   "outputs": [
    {
     "data": {
      "text/plain": [
       "<Axes: xlabel='user_days', ylabel='Count'>"
      ]
     },
     "execution_count": 22,
     "metadata": {},
     "output_type": "execute_result"
    },
    {
     "data": {
      "image/png": "[encoded data removed]",
      "text/plain": [
       "<Figure size 640x480 with 1 Axes>"
      ]
     },
     "metadata": {},
     "output_type": "display_data"
    }
   ],
   "source": [
    "sns.histplot(data=user_lifetime, x=\"user_days\", kde=True, stat='count', binwidth=365)"
   ]
  },
  {
   "cell_type": "code",
   "execution_count": 23,
   "id": "4327453d",
   "metadata": {},
   "outputs": [
    {
     "data": {
      "text/html": [
       "<div>\n",
       "<style scoped>\n",
       "    .dataframe tbody tr th:only-of-type {\n",
       "        vertical-align: middle;\n",
       "    }\n",
       "\n",
       "    .dataframe tbody tr th {\n",
       "        vertical-align: top;\n",
       "    }\n",
       "\n",
       "    .dataframe thead th {\n",
       "        text-align: right;\n",
       "    }\n",
       "</style>\n",
       "<table border=\"1\" class=\"dataframe\">\n",
       "  <thead>\n",
       "    <tr style=\"text-align: right;\">\n",
       "      <th></th>\n",
       "      <th>title</th>\n",
       "      <th>userId</th>\n",
       "      <th>rating</th>\n",
       "    </tr>\n",
       "  </thead>\n",
       "  <tbody>\n",
       "    <tr>\n",
       "      <th>0</th>\n",
       "      <td>Toy Story (1995)</td>\n",
       "      <td>1.0</td>\n",
       "      <td>4.0</td>\n",
       "    </tr>\n",
       "    <tr>\n",
       "      <th>1</th>\n",
       "      <td>Toy Story (1995)</td>\n",
       "      <td>5.0</td>\n",
       "      <td>4.0</td>\n",
       "    </tr>\n",
       "    <tr>\n",
       "      <th>2</th>\n",
       "      <td>Toy Story (1995)</td>\n",
       "      <td>7.0</td>\n",
       "      <td>4.5</td>\n",
       "    </tr>\n",
       "    <tr>\n",
       "      <th>3</th>\n",
       "      <td>Toy Story (1995)</td>\n",
       "      <td>15.0</td>\n",
       "      <td>2.5</td>\n",
       "    </tr>\n",
       "    <tr>\n",
       "      <th>4</th>\n",
       "      <td>Toy Story (1995)</td>\n",
       "      <td>17.0</td>\n",
       "      <td>4.5</td>\n",
       "    </tr>\n",
       "  </tbody>\n",
       "</table>\n",
       "</div>"
      ],
      "text/plain": [
       "              title  userId  rating\n",
       "0  Toy Story (1995)     1.0     4.0\n",
       "1  Toy Story (1995)     5.0     4.0\n",
       "2  Toy Story (1995)     7.0     4.5\n",
       "3  Toy Story (1995)    15.0     2.5\n",
       "4  Toy Story (1995)    17.0     4.5"
      ]
     },
     "execution_count": 23,
     "metadata": {},
     "output_type": "execute_result"
    }
   ],
   "source": [
    "processed_ratings = movies[['movieId','title']].merge(ratings, on='movieId', how='outer')\n",
    "processed_ratings = processed_ratings[['title','userId','rating']]\n",
    "processed_ratings.head()"
   ]
  },
  {
   "cell_type": "code",
   "execution_count": 24,
   "id": "9c034ce6",
   "metadata": {},
   "outputs": [
    {
     "data": {
      "text/plain": [
       "[Text(0.5, 1.0, 'Rating Counts by Year')]"
      ]
     },
     "execution_count": 24,
     "metadata": {},
     "output_type": "execute_result"
    },
    {
     "data": {
      "image/png": "[encoded data removed]",
      "text/plain": [
       "<Figure size 640x480 with 1 Axes>"
      ]
     },
     "metadata": {},
     "output_type": "display_data"
    }
   ],
   "source": [
    "from datetime import datetime\n",
    "ratings['date'] = pd.to_datetime(ratings['timestamp'], unit='s').dt.date\n",
    "ratings.date.value_counts().plot(kind='line').set(title='Rating Counts by Year')"
   ]
  },
  {
   "cell_type": "code",
   "execution_count": null,
   "id": "44fd5d81",
   "metadata": {},
   "outputs": [],
   "source": []
  },
  {
   "cell_type": "markdown",
   "id": "47b71165",
   "metadata": {},
   "source": [
    "### Links"
   ]
  },
  {
   "cell_type": "code",
   "execution_count": 25,
   "id": "01f8c41f",
   "metadata": {},
   "outputs": [
    {
     "data": {
      "text/html": [
       "<div>\n",
       "<style scoped>\n",
       "    .dataframe tbody tr th:only-of-type {\n",
       "        vertical-align: middle;\n",
       "    }\n",
       "\n",
       "    .dataframe tbody tr th {\n",
       "        vertical-align: top;\n",
       "    }\n",
       "\n",
       "    .dataframe thead th {\n",
       "        text-align: right;\n",
       "    }\n",
       "</style>\n",
       "<table border=\"1\" class=\"dataframe\">\n",
       "  <thead>\n",
       "    <tr style=\"text-align: right;\">\n",
       "      <th></th>\n",
       "      <th>movieId</th>\n",
       "      <th>imdbId</th>\n",
       "      <th>tmdbId</th>\n",
       "    </tr>\n",
       "  </thead>\n",
       "  <tbody>\n",
       "    <tr>\n",
       "      <th>0</th>\n",
       "      <td>1</td>\n",
       "      <td>114709</td>\n",
       "      <td>862.0</td>\n",
       "    </tr>\n",
       "    <tr>\n",
       "      <th>1</th>\n",
       "      <td>2</td>\n",
       "      <td>113497</td>\n",
       "      <td>8844.0</td>\n",
       "    </tr>\n",
       "    <tr>\n",
       "      <th>2</th>\n",
       "      <td>3</td>\n",
       "      <td>113228</td>\n",
       "      <td>15602.0</td>\n",
       "    </tr>\n",
       "    <tr>\n",
       "      <th>3</th>\n",
       "      <td>4</td>\n",
       "      <td>114885</td>\n",
       "      <td>31357.0</td>\n",
       "    </tr>\n",
       "    <tr>\n",
       "      <th>4</th>\n",
       "      <td>5</td>\n",
       "      <td>113041</td>\n",
       "      <td>11862.0</td>\n",
       "    </tr>\n",
       "  </tbody>\n",
       "</table>\n",
       "</div>"
      ],
      "text/plain": [
       "   movieId  imdbId   tmdbId\n",
       "0        1  114709    862.0\n",
       "1        2  113497   8844.0\n",
       "2        3  113228  15602.0\n",
       "3        4  114885  31357.0\n",
       "4        5  113041  11862.0"
      ]
     },
     "execution_count": 25,
     "metadata": {},
     "output_type": "execute_result"
    }
   ],
   "source": [
    "links.head()"
   ]
  },
  {
   "cell_type": "code",
   "execution_count": 26,
   "id": "e3806da8",
   "metadata": {},
   "outputs": [
    {
     "data": {
      "text/plain": [
       "<Axes: >"
      ]
     },
     "execution_count": 26,
     "metadata": {},
     "output_type": "execute_result"
    },
    {
     "data": {
      "image/png": "[encoded data removed]",
      "text/plain": [
       "<Figure size 2500x1000 with 2 Axes>"
      ]
     },
     "metadata": {},
     "output_type": "display_data"
    }
   ],
   "source": [
    "msno.matrix(links)"
   ]
  },
  {
   "cell_type": "code",
   "execution_count": 27,
   "id": "225a4947",
   "metadata": {},
   "outputs": [
    {
     "name": "stdout",
     "output_type": "stream",
     "text": [
      "The column, movieId, has 0 blanks out of 9,742 rows (0.0%).\n",
      "The column, imdbId, has 0 blanks out of 9,742 rows (0.0%).\n",
      "The column, tmdbId, has 8 blanks out of 9,742 rows (0.1%).\n"
     ]
    }
   ],
   "source": [
    "count_blanks(links)"
   ]
  },
  {
   "cell_type": "markdown",
   "id": "776caef7",
   "metadata": {},
   "source": [
    "### Movies\n"
   ]
  },
  {
   "cell_type": "code",
   "execution_count": 28,
   "id": "c4c3bd21",
   "metadata": {},
   "outputs": [
    {
     "data": {
      "text/html": [
       "<div>\n",
       "<style scoped>\n",
       "    .dataframe tbody tr th:only-of-type {\n",
       "        vertical-align: middle;\n",
       "    }\n",
       "\n",
       "    .dataframe tbody tr th {\n",
       "        vertical-align: top;\n",
       "    }\n",
       "\n",
       "    .dataframe thead th {\n",
       "        text-align: right;\n",
       "    }\n",
       "</style>\n",
       "<table border=\"1\" class=\"dataframe\">\n",
       "  <thead>\n",
       "    <tr style=\"text-align: right;\">\n",
       "      <th></th>\n",
       "      <th>movieId</th>\n",
       "      <th>title</th>\n",
       "      <th>genres</th>\n",
       "    </tr>\n",
       "  </thead>\n",
       "  <tbody>\n",
       "    <tr>\n",
       "      <th>0</th>\n",
       "      <td>1</td>\n",
       "      <td>Toy Story (1995)</td>\n",
       "      <td>Adventure|Animation|Children|Comedy|Fantasy</td>\n",
       "    </tr>\n",
       "    <tr>\n",
       "      <th>1</th>\n",
       "      <td>2</td>\n",
       "      <td>Jumanji (1995)</td>\n",
       "      <td>Adventure|Children|Fantasy</td>\n",
       "    </tr>\n",
       "    <tr>\n",
       "      <th>2</th>\n",
       "      <td>3</td>\n",
       "      <td>Grumpier Old Men (1995)</td>\n",
       "      <td>Comedy|Romance</td>\n",
       "    </tr>\n",
       "    <tr>\n",
       "      <th>3</th>\n",
       "      <td>4</td>\n",
       "      <td>Waiting to Exhale (1995)</td>\n",
       "      <td>Comedy|Drama|Romance</td>\n",
       "    </tr>\n",
       "    <tr>\n",
       "      <th>4</th>\n",
       "      <td>5</td>\n",
       "      <td>Father of the Bride Part II (1995)</td>\n",
       "      <td>Comedy</td>\n",
       "    </tr>\n",
       "  </tbody>\n",
       "</table>\n",
       "</div>"
      ],
      "text/plain": [
       "   movieId                               title  \\\n",
       "0        1                    Toy Story (1995)   \n",
       "1        2                      Jumanji (1995)   \n",
       "2        3             Grumpier Old Men (1995)   \n",
       "3        4            Waiting to Exhale (1995)   \n",
       "4        5  Father of the Bride Part II (1995)   \n",
       "\n",
       "                                        genres  \n",
       "0  Adventure|Animation|Children|Comedy|Fantasy  \n",
       "1                   Adventure|Children|Fantasy  \n",
       "2                               Comedy|Romance  \n",
       "3                         Comedy|Drama|Romance  \n",
       "4                                       Comedy  "
      ]
     },
     "execution_count": 28,
     "metadata": {},
     "output_type": "execute_result"
    }
   ],
   "source": [
    "movies.head()"
   ]
  },
  {
   "cell_type": "code",
   "execution_count": 29,
   "id": "e0311ecd",
   "metadata": {},
   "outputs": [
    {
     "data": {
      "text/plain": [
       "(9742, 3)"
      ]
     },
     "execution_count": 29,
     "metadata": {},
     "output_type": "execute_result"
    }
   ],
   "source": [
    "movies.shape"
   ]
  },
  {
   "cell_type": "code",
   "execution_count": 31,
   "id": "614b18d7",
   "metadata": {},
   "outputs": [
    {
     "data": {
      "text/html": [
       "<div>\n",
       "<style scoped>\n",
       "    .dataframe tbody tr th:only-of-type {\n",
       "        vertical-align: middle;\n",
       "    }\n",
       "\n",
       "    .dataframe tbody tr th {\n",
       "        vertical-align: top;\n",
       "    }\n",
       "\n",
       "    .dataframe thead th {\n",
       "        text-align: right;\n",
       "    }\n",
       "</style>\n",
       "<table border=\"1\" class=\"dataframe\">\n",
       "  <thead>\n",
       "    <tr style=\"text-align: right;\">\n",
       "      <th></th>\n",
       "      <th>movieId</th>\n",
       "      <th>title</th>\n",
       "      <th>genres</th>\n",
       "      <th>userId</th>\n",
       "      <th>rating</th>\n",
       "    </tr>\n",
       "  </thead>\n",
       "  <tbody>\n",
       "    <tr>\n",
       "      <th>0</th>\n",
       "      <td>1</td>\n",
       "      <td>Toy Story (1995)</td>\n",
       "      <td>Adventure|Animation|Children|Comedy|Fantasy</td>\n",
       "      <td>1</td>\n",
       "      <td>4.0</td>\n",
       "    </tr>\n",
       "    <tr>\n",
       "      <th>1</th>\n",
       "      <td>1</td>\n",
       "      <td>Toy Story (1995)</td>\n",
       "      <td>Adventure|Animation|Children|Comedy|Fantasy</td>\n",
       "      <td>5</td>\n",
       "      <td>4.0</td>\n",
       "    </tr>\n",
       "    <tr>\n",
       "      <th>2</th>\n",
       "      <td>1</td>\n",
       "      <td>Toy Story (1995)</td>\n",
       "      <td>Adventure|Animation|Children|Comedy|Fantasy</td>\n",
       "      <td>7</td>\n",
       "      <td>4.5</td>\n",
       "    </tr>\n",
       "    <tr>\n",
       "      <th>3</th>\n",
       "      <td>1</td>\n",
       "      <td>Toy Story (1995)</td>\n",
       "      <td>Adventure|Animation|Children|Comedy|Fantasy</td>\n",
       "      <td>15</td>\n",
       "      <td>2.5</td>\n",
       "    </tr>\n",
       "    <tr>\n",
       "      <th>4</th>\n",
       "      <td>1</td>\n",
       "      <td>Toy Story (1995)</td>\n",
       "      <td>Adventure|Animation|Children|Comedy|Fantasy</td>\n",
       "      <td>17</td>\n",
       "      <td>4.5</td>\n",
       "    </tr>\n",
       "  </tbody>\n",
       "</table>\n",
       "</div>"
      ],
      "text/plain": [
       "   movieId             title                                       genres  \\\n",
       "0        1  Toy Story (1995)  Adventure|Animation|Children|Comedy|Fantasy   \n",
       "1        1  Toy Story (1995)  Adventure|Animation|Children|Comedy|Fantasy   \n",
       "2        1  Toy Story (1995)  Adventure|Animation|Children|Comedy|Fantasy   \n",
       "3        1  Toy Story (1995)  Adventure|Animation|Children|Comedy|Fantasy   \n",
       "4        1  Toy Story (1995)  Adventure|Animation|Children|Comedy|Fantasy   \n",
       "\n",
       "   userId  rating  \n",
       "0       1     4.0  \n",
       "1       5     4.0  \n",
       "2       7     4.5  \n",
       "3      15     2.5  \n",
       "4      17     4.5  "
      ]
     },
     "execution_count": 31,
     "metadata": {},
     "output_type": "execute_result"
    }
   ],
   "source": [
    "movie_ratings = movies.merge(ratings, on='movieId')\n",
    "movie_ratings = movie_ratings[['movieId','title','genres','userId','rating']]\n",
    "movie_ratings.head()"
   ]
  },
  {
   "cell_type": "code",
   "execution_count": 32,
   "id": "4b513b2b",
   "metadata": {},
   "outputs": [
    {
     "data": {
      "text/html": [
       "<div>\n",
       "<style scoped>\n",
       "    .dataframe tbody tr th:only-of-type {\n",
       "        vertical-align: middle;\n",
       "    }\n",
       "\n",
       "    .dataframe tbody tr th {\n",
       "        vertical-align: top;\n",
       "    }\n",
       "\n",
       "    .dataframe thead th {\n",
       "        text-align: right;\n",
       "    }\n",
       "</style>\n",
       "<table border=\"1\" class=\"dataframe\">\n",
       "  <thead>\n",
       "    <tr style=\"text-align: right;\">\n",
       "      <th></th>\n",
       "      <th>title</th>\n",
       "      <th>year_released</th>\n",
       "      <th>genres</th>\n",
       "    </tr>\n",
       "    <tr>\n",
       "      <th>imdbId</th>\n",
       "      <th></th>\n",
       "      <th></th>\n",
       "      <th></th>\n",
       "    </tr>\n",
       "  </thead>\n",
       "  <tbody>\n",
       "    <tr>\n",
       "      <th>114709</th>\n",
       "      <td>Toy Story (1995)</td>\n",
       "      <td>1995.0</td>\n",
       "      <td>Adventure</td>\n",
       "    </tr>\n",
       "    <tr>\n",
       "      <th>114709</th>\n",
       "      <td>Toy Story (1995)</td>\n",
       "      <td>1995.0</td>\n",
       "      <td>Animation</td>\n",
       "    </tr>\n",
       "    <tr>\n",
       "      <th>114709</th>\n",
       "      <td>Toy Story (1995)</td>\n",
       "      <td>1995.0</td>\n",
       "      <td>Children</td>\n",
       "    </tr>\n",
       "    <tr>\n",
       "      <th>114709</th>\n",
       "      <td>Toy Story (1995)</td>\n",
       "      <td>1995.0</td>\n",
       "      <td>Comedy</td>\n",
       "    </tr>\n",
       "    <tr>\n",
       "      <th>114709</th>\n",
       "      <td>Toy Story (1995)</td>\n",
       "      <td>1995.0</td>\n",
       "      <td>Fantasy</td>\n",
       "    </tr>\n",
       "  </tbody>\n",
       "</table>\n",
       "</div>"
      ],
      "text/plain": [
       "                   title  year_released     genres\n",
       "imdbId                                            \n",
       "114709  Toy Story (1995)         1995.0  Adventure\n",
       "114709  Toy Story (1995)         1995.0  Animation\n",
       "114709  Toy Story (1995)         1995.0   Children\n",
       "114709  Toy Story (1995)         1995.0     Comedy\n",
       "114709  Toy Story (1995)         1995.0    Fantasy"
      ]
     },
     "execution_count": 32,
     "metadata": {},
     "output_type": "execute_result"
    }
   ],
   "source": [
    "cleaned_movies = movies.assign(genres=movies['genres'].str.split('|')).explode('genres')\n",
    "cleaned_movies['year_released'] = cleaned_movies['title'].str.extract(r'\\((\\d{4})\\)')\n",
    "cleaned_movies['year_released'] = pd.to_numeric(cleaned_movies['year_released'], errors='coerce')\n",
    "cleaned_movies = links.merge(cleaned_movies, on='movieId', how='outer')\n",
    "cleaned_movies = cleaned_movies[['imdbId', 'title','year_released', 'genres']]\n",
    "cleaned_movies.set_index('imdbId', inplace=True)\n",
    "cleaned_movies.head()"
   ]
  },
  {
   "cell_type": "code",
   "execution_count": 33,
   "id": "ba0f63d8",
   "metadata": {},
   "outputs": [
    {
     "data": {
      "text/plain": [
       "[Text(0.5, 1.0, 'Movies by Year')]"
      ]
     },
     "execution_count": 33,
     "metadata": {},
     "output_type": "execute_result"
    },
    {
     "data": {
      "image/png": "[encoded data removed]",
      "text/plain": [
       "<Figure size 640x480 with 1 Axes>"
      ]
     },
     "metadata": {},
     "output_type": "display_data"
    }
   ],
   "source": [
    "movie_years = cleaned_movies[['title','year_released']]\n",
    "movie_years = movie_years[(movie_years['year_released'] > 0) & (movie_years['year_released'] < 2015)]\n",
    "movie_years.year_released.value_counts().sort_index(ascending=True).plot(kind='line').set(title=\"Movies by Year\")"
   ]
  },
  {
   "cell_type": "code",
   "execution_count": 34,
   "id": "6d8bccae",
   "metadata": {},
   "outputs": [
    {
     "data": {
      "text/html": [
       "<div>\n",
       "<style scoped>\n",
       "    .dataframe tbody tr th:only-of-type {\n",
       "        vertical-align: middle;\n",
       "    }\n",
       "\n",
       "    .dataframe tbody tr th {\n",
       "        vertical-align: top;\n",
       "    }\n",
       "\n",
       "    .dataframe thead th {\n",
       "        text-align: right;\n",
       "    }\n",
       "</style>\n",
       "<table border=\"1\" class=\"dataframe\">\n",
       "  <thead>\n",
       "    <tr style=\"text-align: right;\">\n",
       "      <th></th>\n",
       "      <th>year_released</th>\n",
       "      <th>(no genres listed)</th>\n",
       "      <th>Action</th>\n",
       "      <th>Adventure</th>\n",
       "      <th>Animation</th>\n",
       "      <th>Children</th>\n",
       "      <th>Comedy</th>\n",
       "      <th>Crime</th>\n",
       "      <th>Documentary</th>\n",
       "      <th>Drama</th>\n",
       "      <th>...</th>\n",
       "      <th>Film-Noir</th>\n",
       "      <th>Horror</th>\n",
       "      <th>IMAX</th>\n",
       "      <th>Musical</th>\n",
       "      <th>Mystery</th>\n",
       "      <th>Romance</th>\n",
       "      <th>Sci-Fi</th>\n",
       "      <th>Thriller</th>\n",
       "      <th>War</th>\n",
       "      <th>Western</th>\n",
       "    </tr>\n",
       "    <tr>\n",
       "      <th>title</th>\n",
       "      <th></th>\n",
       "      <th></th>\n",
       "      <th></th>\n",
       "      <th></th>\n",
       "      <th></th>\n",
       "      <th></th>\n",
       "      <th></th>\n",
       "      <th></th>\n",
       "      <th></th>\n",
       "      <th></th>\n",
       "      <th></th>\n",
       "      <th></th>\n",
       "      <th></th>\n",
       "      <th></th>\n",
       "      <th></th>\n",
       "      <th></th>\n",
       "      <th></th>\n",
       "      <th></th>\n",
       "      <th></th>\n",
       "      <th></th>\n",
       "      <th></th>\n",
       "    </tr>\n",
       "  </thead>\n",
       "  <tbody>\n",
       "    <tr>\n",
       "      <th>'71 (2014)</th>\n",
       "      <td>2014.0</td>\n",
       "      <td>0.0</td>\n",
       "      <td>1.0</td>\n",
       "      <td>0.0</td>\n",
       "      <td>0.0</td>\n",
       "      <td>0.0</td>\n",
       "      <td>0.0</td>\n",
       "      <td>0.0</td>\n",
       "      <td>0.0</td>\n",
       "      <td>1.0</td>\n",
       "      <td>...</td>\n",
       "      <td>0.0</td>\n",
       "      <td>0.0</td>\n",
       "      <td>0.0</td>\n",
       "      <td>0.0</td>\n",
       "      <td>0.0</td>\n",
       "      <td>0.0</td>\n",
       "      <td>0.0</td>\n",
       "      <td>1.0</td>\n",
       "      <td>1.0</td>\n",
       "      <td>0.0</td>\n",
       "    </tr>\n",
       "    <tr>\n",
       "      <th>'Hellboy': The Seeds of Creation (2004)</th>\n",
       "      <td>2004.0</td>\n",
       "      <td>0.0</td>\n",
       "      <td>1.0</td>\n",
       "      <td>1.0</td>\n",
       "      <td>0.0</td>\n",
       "      <td>0.0</td>\n",
       "      <td>1.0</td>\n",
       "      <td>0.0</td>\n",
       "      <td>1.0</td>\n",
       "      <td>0.0</td>\n",
       "      <td>...</td>\n",
       "      <td>0.0</td>\n",
       "      <td>0.0</td>\n",
       "      <td>0.0</td>\n",
       "      <td>0.0</td>\n",
       "      <td>0.0</td>\n",
       "      <td>0.0</td>\n",
       "      <td>0.0</td>\n",
       "      <td>0.0</td>\n",
       "      <td>0.0</td>\n",
       "      <td>0.0</td>\n",
       "    </tr>\n",
       "    <tr>\n",
       "      <th>'Round Midnight (1986)</th>\n",
       "      <td>1986.0</td>\n",
       "      <td>0.0</td>\n",
       "      <td>0.0</td>\n",
       "      <td>0.0</td>\n",
       "      <td>0.0</td>\n",
       "      <td>0.0</td>\n",
       "      <td>0.0</td>\n",
       "      <td>0.0</td>\n",
       "      <td>0.0</td>\n",
       "      <td>1.0</td>\n",
       "      <td>...</td>\n",
       "      <td>0.0</td>\n",
       "      <td>0.0</td>\n",
       "      <td>0.0</td>\n",
       "      <td>1.0</td>\n",
       "      <td>0.0</td>\n",
       "      <td>0.0</td>\n",
       "      <td>0.0</td>\n",
       "      <td>0.0</td>\n",
       "      <td>0.0</td>\n",
       "      <td>0.0</td>\n",
       "    </tr>\n",
       "    <tr>\n",
       "      <th>'Salem's Lot (2004)</th>\n",
       "      <td>2004.0</td>\n",
       "      <td>0.0</td>\n",
       "      <td>0.0</td>\n",
       "      <td>0.0</td>\n",
       "      <td>0.0</td>\n",
       "      <td>0.0</td>\n",
       "      <td>0.0</td>\n",
       "      <td>0.0</td>\n",
       "      <td>0.0</td>\n",
       "      <td>1.0</td>\n",
       "      <td>...</td>\n",
       "      <td>0.0</td>\n",
       "      <td>1.0</td>\n",
       "      <td>0.0</td>\n",
       "      <td>0.0</td>\n",
       "      <td>1.0</td>\n",
       "      <td>0.0</td>\n",
       "      <td>0.0</td>\n",
       "      <td>1.0</td>\n",
       "      <td>0.0</td>\n",
       "      <td>0.0</td>\n",
       "    </tr>\n",
       "    <tr>\n",
       "      <th>'Til There Was You (1997)</th>\n",
       "      <td>1997.0</td>\n",
       "      <td>0.0</td>\n",
       "      <td>0.0</td>\n",
       "      <td>0.0</td>\n",
       "      <td>0.0</td>\n",
       "      <td>0.0</td>\n",
       "      <td>0.0</td>\n",
       "      <td>0.0</td>\n",
       "      <td>0.0</td>\n",
       "      <td>1.0</td>\n",
       "      <td>...</td>\n",
       "      <td>0.0</td>\n",
       "      <td>0.0</td>\n",
       "      <td>0.0</td>\n",
       "      <td>0.0</td>\n",
       "      <td>0.0</td>\n",
       "      <td>1.0</td>\n",
       "      <td>0.0</td>\n",
       "      <td>0.0</td>\n",
       "      <td>0.0</td>\n",
       "      <td>0.0</td>\n",
       "    </tr>\n",
       "  </tbody>\n",
       "</table>\n",
       "<p>5 rows × 21 columns</p>\n",
       "</div>"
      ],
      "text/plain": [
       "                                         year_released  (no genres listed)  \\\n",
       "title                                                                        \n",
       "'71 (2014)                                      2014.0                 0.0   \n",
       "'Hellboy': The Seeds of Creation (2004)         2004.0                 0.0   \n",
       "'Round Midnight (1986)                          1986.0                 0.0   \n",
       "'Salem's Lot (2004)                             2004.0                 0.0   \n",
       "'Til There Was You (1997)                       1997.0                 0.0   \n",
       "\n",
       "                                         Action  Adventure  Animation  \\\n",
       "title                                                                   \n",
       "'71 (2014)                                  1.0        0.0        0.0   \n",
       "'Hellboy': The Seeds of Creation (2004)     1.0        1.0        0.0   \n",
       "'Round Midnight (1986)                      0.0        0.0        0.0   \n",
       "'Salem's Lot (2004)                         0.0        0.0        0.0   \n",
       "'Til There Was You (1997)                   0.0        0.0        0.0   \n",
       "\n",
       "                                         Children  Comedy  Crime  Documentary  \\\n",
       "title                                                                           \n",
       "'71 (2014)                                    0.0     0.0    0.0          0.0   \n",
       "'Hellboy': The Seeds of Creation (2004)       0.0     1.0    0.0          1.0   \n",
       "'Round Midnight (1986)                        0.0     0.0    0.0          0.0   \n",
       "'Salem's Lot (2004)                           0.0     0.0    0.0          0.0   \n",
       "'Til There Was You (1997)                     0.0     0.0    0.0          0.0   \n",
       "\n",
       "                                         Drama  ...  Film-Noir  Horror  IMAX  \\\n",
       "title                                           ...                            \n",
       "'71 (2014)                                 1.0  ...        0.0     0.0   0.0   \n",
       "'Hellboy': The Seeds of Creation (2004)    0.0  ...        0.0     0.0   0.0   \n",
       "'Round Midnight (1986)                     1.0  ...        0.0     0.0   0.0   \n",
       "'Salem's Lot (2004)                        1.0  ...        0.0     1.0   0.0   \n",
       "'Til There Was You (1997)                  1.0  ...        0.0     0.0   0.0   \n",
       "\n",
       "                                         Musical  Mystery  Romance  Sci-Fi  \\\n",
       "title                                                                        \n",
       "'71 (2014)                                   0.0      0.0      0.0     0.0   \n",
       "'Hellboy': The Seeds of Creation (2004)      0.0      0.0      0.0     0.0   \n",
       "'Round Midnight (1986)                       1.0      0.0      0.0     0.0   \n",
       "'Salem's Lot (2004)                          0.0      1.0      0.0     0.0   \n",
       "'Til There Was You (1997)                    0.0      0.0      1.0     0.0   \n",
       "\n",
       "                                         Thriller  War  Western  \n",
       "title                                                            \n",
       "'71 (2014)                                    1.0  1.0      0.0  \n",
       "'Hellboy': The Seeds of Creation (2004)       0.0  0.0      0.0  \n",
       "'Round Midnight (1986)                        0.0  0.0      0.0  \n",
       "'Salem's Lot (2004)                           1.0  0.0      0.0  \n",
       "'Til There Was You (1997)                     0.0  0.0      0.0  \n",
       "\n",
       "[5 rows x 21 columns]"
      ]
     },
     "execution_count": 34,
     "metadata": {},
     "output_type": "execute_result"
    }
   ],
   "source": [
    "one_hot = pd.get_dummies(cleaned_movies['genres'], dtype=float)\n",
    "cleaned_movies = cleaned_movies.drop('genres',axis = 1)\n",
    "cleaned_movies = cleaned_movies.join(one_hot)\n",
    "cleaned_movies = cleaned_movies.groupby(['title']).max()\n",
    "cleaned_movies.head()"
   ]
  },
  {
   "cell_type": "code",
   "execution_count": 35,
   "id": "3d06175e",
   "metadata": {},
   "outputs": [
    {
     "data": {
      "text/html": [
       "<div>\n",
       "<style scoped>\n",
       "    .dataframe tbody tr th:only-of-type {\n",
       "        vertical-align: middle;\n",
       "    }\n",
       "\n",
       "    .dataframe tbody tr th {\n",
       "        vertical-align: top;\n",
       "    }\n",
       "\n",
       "    .dataframe thead th {\n",
       "        text-align: right;\n",
       "    }\n",
       "</style>\n",
       "<table border=\"1\" class=\"dataframe\">\n",
       "  <thead>\n",
       "    <tr style=\"text-align: right;\">\n",
       "      <th></th>\n",
       "      <th>title</th>\n",
       "      <th>relevance</th>\n",
       "      <th>tag</th>\n",
       "    </tr>\n",
       "  </thead>\n",
       "  <tbody>\n",
       "    <tr>\n",
       "      <th>0</th>\n",
       "      <td>Toy Story (1995)</td>\n",
       "      <td>0.02500</td>\n",
       "      <td>007</td>\n",
       "    </tr>\n",
       "    <tr>\n",
       "      <th>1</th>\n",
       "      <td>Jumanji (1995)</td>\n",
       "      <td>0.03975</td>\n",
       "      <td>007</td>\n",
       "    </tr>\n",
       "    <tr>\n",
       "      <th>2</th>\n",
       "      <td>Grumpier Old Men (1995)</td>\n",
       "      <td>0.04350</td>\n",
       "      <td>007</td>\n",
       "    </tr>\n",
       "    <tr>\n",
       "      <th>3</th>\n",
       "      <td>Waiting to Exhale (1995)</td>\n",
       "      <td>0.03725</td>\n",
       "      <td>007</td>\n",
       "    </tr>\n",
       "    <tr>\n",
       "      <th>4</th>\n",
       "      <td>Father of the Bride Part II (1995)</td>\n",
       "      <td>0.04200</td>\n",
       "      <td>007</td>\n",
       "    </tr>\n",
       "  </tbody>\n",
       "</table>\n",
       "</div>"
      ],
      "text/plain": [
       "                                title  relevance  tag\n",
       "0                    Toy Story (1995)    0.02500  007\n",
       "1                      Jumanji (1995)    0.03975  007\n",
       "2             Grumpier Old Men (1995)    0.04350  007\n",
       "3            Waiting to Exhale (1995)    0.03725  007\n",
       "4  Father of the Bride Part II (1995)    0.04200  007"
      ]
     },
     "execution_count": 35,
     "metadata": {},
     "output_type": "execute_result"
    }
   ],
   "source": [
    "movie_tags = movies.merge(genome_scores, on='movieId', how='outer').merge(genome_tags, on='tagId', how='outer')[['title','relevance','tag']]\n",
    "movie_tags.head()"
   ]
  },
  {
   "cell_type": "code",
   "execution_count": 36,
   "id": "38d4adfa",
   "metadata": {},
   "outputs": [
    {
     "data": {
      "text/html": [
       "<div>\n",
       "<style scoped>\n",
       "    .dataframe tbody tr th:only-of-type {\n",
       "        vertical-align: middle;\n",
       "    }\n",
       "\n",
       "    .dataframe tbody tr th {\n",
       "        vertical-align: top;\n",
       "    }\n",
       "\n",
       "    .dataframe thead th {\n",
       "        text-align: right;\n",
       "    }\n",
       "</style>\n",
       "<table border=\"1\" class=\"dataframe\">\n",
       "  <thead>\n",
       "    <tr style=\"text-align: right;\">\n",
       "      <th>tag</th>\n",
       "      <th>007</th>\n",
       "      <th>007 (series)</th>\n",
       "      <th>18th century</th>\n",
       "      <th>1920s</th>\n",
       "      <th>1930s</th>\n",
       "      <th>1950s</th>\n",
       "      <th>1960s</th>\n",
       "      <th>1970s</th>\n",
       "      <th>1980s</th>\n",
       "      <th>19th century</th>\n",
       "      <th>...</th>\n",
       "      <th>world politics</th>\n",
       "      <th>world war i</th>\n",
       "      <th>world war ii</th>\n",
       "      <th>writer's life</th>\n",
       "      <th>writers</th>\n",
       "      <th>writing</th>\n",
       "      <th>wuxia</th>\n",
       "      <th>wwii</th>\n",
       "      <th>zombie</th>\n",
       "      <th>zombies</th>\n",
       "    </tr>\n",
       "    <tr>\n",
       "      <th>title</th>\n",
       "      <th></th>\n",
       "      <th></th>\n",
       "      <th></th>\n",
       "      <th></th>\n",
       "      <th></th>\n",
       "      <th></th>\n",
       "      <th></th>\n",
       "      <th></th>\n",
       "      <th></th>\n",
       "      <th></th>\n",
       "      <th></th>\n",
       "      <th></th>\n",
       "      <th></th>\n",
       "      <th></th>\n",
       "      <th></th>\n",
       "      <th></th>\n",
       "      <th></th>\n",
       "      <th></th>\n",
       "      <th></th>\n",
       "      <th></th>\n",
       "      <th></th>\n",
       "    </tr>\n",
       "  </thead>\n",
       "  <tbody>\n",
       "    <tr>\n",
       "      <th>'71 (2014)</th>\n",
       "      <td>0.01350</td>\n",
       "      <td>0.01250</td>\n",
       "      <td>0.04650</td>\n",
       "      <td>0.05525</td>\n",
       "      <td>0.11375</td>\n",
       "      <td>0.04425</td>\n",
       "      <td>0.02600</td>\n",
       "      <td>0.35250</td>\n",
       "      <td>0.07150</td>\n",
       "      <td>0.03175</td>\n",
       "      <td>...</td>\n",
       "      <td>0.36550</td>\n",
       "      <td>0.24450</td>\n",
       "      <td>0.05025</td>\n",
       "      <td>0.05500</td>\n",
       "      <td>0.13725</td>\n",
       "      <td>0.02800</td>\n",
       "      <td>0.01150</td>\n",
       "      <td>0.08775</td>\n",
       "      <td>0.0675</td>\n",
       "      <td>0.01775</td>\n",
       "    </tr>\n",
       "    <tr>\n",
       "      <th>'Round Midnight (1986)</th>\n",
       "      <td>0.01950</td>\n",
       "      <td>0.02075</td>\n",
       "      <td>0.02100</td>\n",
       "      <td>0.12100</td>\n",
       "      <td>0.51250</td>\n",
       "      <td>0.25750</td>\n",
       "      <td>0.41800</td>\n",
       "      <td>0.27575</td>\n",
       "      <td>0.08675</td>\n",
       "      <td>0.01525</td>\n",
       "      <td>...</td>\n",
       "      <td>0.21950</td>\n",
       "      <td>0.04875</td>\n",
       "      <td>0.01575</td>\n",
       "      <td>0.10325</td>\n",
       "      <td>0.19675</td>\n",
       "      <td>0.10175</td>\n",
       "      <td>0.08250</td>\n",
       "      <td>0.00675</td>\n",
       "      <td>0.0550</td>\n",
       "      <td>0.01650</td>\n",
       "    </tr>\n",
       "    <tr>\n",
       "      <th>'Til There Was You (1997)</th>\n",
       "      <td>0.05425</td>\n",
       "      <td>0.06900</td>\n",
       "      <td>0.03425</td>\n",
       "      <td>0.03950</td>\n",
       "      <td>0.06225</td>\n",
       "      <td>0.04025</td>\n",
       "      <td>0.05450</td>\n",
       "      <td>0.07100</td>\n",
       "      <td>0.03700</td>\n",
       "      <td>0.02850</td>\n",
       "      <td>...</td>\n",
       "      <td>0.03750</td>\n",
       "      <td>0.01875</td>\n",
       "      <td>0.01175</td>\n",
       "      <td>0.03025</td>\n",
       "      <td>0.43600</td>\n",
       "      <td>0.25075</td>\n",
       "      <td>0.01975</td>\n",
       "      <td>0.00900</td>\n",
       "      <td>0.0990</td>\n",
       "      <td>0.01700</td>\n",
       "    </tr>\n",
       "    <tr>\n",
       "      <th>'burbs, The (1989)</th>\n",
       "      <td>0.03550</td>\n",
       "      <td>0.03650</td>\n",
       "      <td>0.02300</td>\n",
       "      <td>0.04125</td>\n",
       "      <td>0.10050</td>\n",
       "      <td>0.05250</td>\n",
       "      <td>0.02525</td>\n",
       "      <td>0.08400</td>\n",
       "      <td>0.32100</td>\n",
       "      <td>0.02800</td>\n",
       "      <td>...</td>\n",
       "      <td>0.03325</td>\n",
       "      <td>0.01900</td>\n",
       "      <td>0.01425</td>\n",
       "      <td>0.03900</td>\n",
       "      <td>0.28200</td>\n",
       "      <td>0.06775</td>\n",
       "      <td>0.02025</td>\n",
       "      <td>0.01025</td>\n",
       "      <td>0.1835</td>\n",
       "      <td>0.02825</td>\n",
       "    </tr>\n",
       "    <tr>\n",
       "      <th>'night Mother (1986)</th>\n",
       "      <td>0.03375</td>\n",
       "      <td>0.03475</td>\n",
       "      <td>0.03600</td>\n",
       "      <td>0.04200</td>\n",
       "      <td>0.10600</td>\n",
       "      <td>0.08325</td>\n",
       "      <td>0.03250</td>\n",
       "      <td>0.12600</td>\n",
       "      <td>0.04675</td>\n",
       "      <td>0.02450</td>\n",
       "      <td>...</td>\n",
       "      <td>0.06775</td>\n",
       "      <td>0.02525</td>\n",
       "      <td>0.03075</td>\n",
       "      <td>0.17000</td>\n",
       "      <td>0.22150</td>\n",
       "      <td>0.08325</td>\n",
       "      <td>0.05725</td>\n",
       "      <td>0.01850</td>\n",
       "      <td>0.0930</td>\n",
       "      <td>0.02725</td>\n",
       "    </tr>\n",
       "  </tbody>\n",
       "</table>\n",
       "<p>5 rows × 1128 columns</p>\n",
       "</div>"
      ],
      "text/plain": [
       "tag                            007  007 (series)  18th century    1920s  \\\n",
       "title                                                                     \n",
       "'71 (2014)                 0.01350       0.01250       0.04650  0.05525   \n",
       "'Round Midnight (1986)     0.01950       0.02075       0.02100  0.12100   \n",
       "'Til There Was You (1997)  0.05425       0.06900       0.03425  0.03950   \n",
       "'burbs, The (1989)         0.03550       0.03650       0.02300  0.04125   \n",
       "'night Mother (1986)       0.03375       0.03475       0.03600  0.04200   \n",
       "\n",
       "tag                          1930s    1950s    1960s    1970s    1980s  \\\n",
       "title                                                                    \n",
       "'71 (2014)                 0.11375  0.04425  0.02600  0.35250  0.07150   \n",
       "'Round Midnight (1986)     0.51250  0.25750  0.41800  0.27575  0.08675   \n",
       "'Til There Was You (1997)  0.06225  0.04025  0.05450  0.07100  0.03700   \n",
       "'burbs, The (1989)         0.10050  0.05250  0.02525  0.08400  0.32100   \n",
       "'night Mother (1986)       0.10600  0.08325  0.03250  0.12600  0.04675   \n",
       "\n",
       "tag                        19th century  ...  world politics  world war i  \\\n",
       "title                                    ...                                \n",
       "'71 (2014)                      0.03175  ...         0.36550      0.24450   \n",
       "'Round Midnight (1986)          0.01525  ...         0.21950      0.04875   \n",
       "'Til There Was You (1997)       0.02850  ...         0.03750      0.01875   \n",
       "'burbs, The (1989)              0.02800  ...         0.03325      0.01900   \n",
       "'night Mother (1986)            0.02450  ...         0.06775      0.02525   \n",
       "\n",
       "tag                        world war ii  writer's life  writers  writing  \\\n",
       "title                                                                      \n",
       "'71 (2014)                      0.05025        0.05500  0.13725  0.02800   \n",
       "'Round Midnight (1986)          0.01575        0.10325  0.19675  0.10175   \n",
       "'Til There Was You (1997)       0.01175        0.03025  0.43600  0.25075   \n",
       "'burbs, The (1989)              0.01425        0.03900  0.28200  0.06775   \n",
       "'night Mother (1986)            0.03075        0.17000  0.22150  0.08325   \n",
       "\n",
       "tag                          wuxia     wwii  zombie  zombies  \n",
       "title                                                         \n",
       "'71 (2014)                 0.01150  0.08775  0.0675  0.01775  \n",
       "'Round Midnight (1986)     0.08250  0.00675  0.0550  0.01650  \n",
       "'Til There Was You (1997)  0.01975  0.00900  0.0990  0.01700  \n",
       "'burbs, The (1989)         0.02025  0.01025  0.1835  0.02825  \n",
       "'night Mother (1986)       0.05725  0.01850  0.0930  0.02725  \n",
       "\n",
       "[5 rows x 1128 columns]"
      ]
     },
     "execution_count": 36,
     "metadata": {},
     "output_type": "execute_result"
    }
   ],
   "source": [
    "pivoted_movie_tags = movie_tags.pivot_table(index='title', columns='tag', values='relevance')\n",
    "pivoted_movie_tags.head()"
   ]
  },
  {
   "cell_type": "markdown",
   "id": "edd9e336",
   "metadata": {},
   "source": [
    "## Data Pre-Processing\n"
   ]
  },
  {
   "cell_type": "code",
   "execution_count": 37,
   "id": "499424c1",
   "metadata": {},
   "outputs": [
    {
     "data": {
      "text/html": [
       "<div>\n",
       "<style scoped>\n",
       "    .dataframe tbody tr th:only-of-type {\n",
       "        vertical-align: middle;\n",
       "    }\n",
       "\n",
       "    .dataframe tbody tr th {\n",
       "        vertical-align: top;\n",
       "    }\n",
       "\n",
       "    .dataframe thead th {\n",
       "        text-align: right;\n",
       "    }\n",
       "</style>\n",
       "<table border=\"1\" class=\"dataframe\">\n",
       "  <thead>\n",
       "    <tr style=\"text-align: right;\">\n",
       "      <th></th>\n",
       "      <th>imdbId</th>\n",
       "      <th>tagId</th>\n",
       "      <th>relevance</th>\n",
       "    </tr>\n",
       "  </thead>\n",
       "  <tbody>\n",
       "    <tr>\n",
       "      <th>0</th>\n",
       "      <td>114709</td>\n",
       "      <td>1</td>\n",
       "      <td>0.02500</td>\n",
       "    </tr>\n",
       "    <tr>\n",
       "      <th>1</th>\n",
       "      <td>114709</td>\n",
       "      <td>2</td>\n",
       "      <td>0.02500</td>\n",
       "    </tr>\n",
       "    <tr>\n",
       "      <th>2</th>\n",
       "      <td>114709</td>\n",
       "      <td>3</td>\n",
       "      <td>0.05775</td>\n",
       "    </tr>\n",
       "    <tr>\n",
       "      <th>3</th>\n",
       "      <td>114709</td>\n",
       "      <td>4</td>\n",
       "      <td>0.09675</td>\n",
       "    </tr>\n",
       "    <tr>\n",
       "      <th>4</th>\n",
       "      <td>114709</td>\n",
       "      <td>5</td>\n",
       "      <td>0.14675</td>\n",
       "    </tr>\n",
       "  </tbody>\n",
       "</table>\n",
       "</div>"
      ],
      "text/plain": [
       "   imdbId  tagId  relevance\n",
       "0  114709      1    0.02500\n",
       "1  114709      2    0.02500\n",
       "2  114709      3    0.05775\n",
       "3  114709      4    0.09675\n",
       "4  114709      5    0.14675"
      ]
     },
     "execution_count": 37,
     "metadata": {},
     "output_type": "execute_result"
    }
   ],
   "source": [
    "genome_links = links.merge(genome_scores, on='movieId', how='inner')\n",
    "genome_links = genome_links[['imdbId', 'tagId', 'relevance']]\n",
    "genome_links.head()"
   ]
  },
  {
   "cell_type": "code",
   "execution_count": 38,
   "id": "feefd30d",
   "metadata": {},
   "outputs": [
    {
     "data": {
      "text/html": [
       "<div>\n",
       "<style scoped>\n",
       "    .dataframe tbody tr th:only-of-type {\n",
       "        vertical-align: middle;\n",
       "    }\n",
       "\n",
       "    .dataframe tbody tr th {\n",
       "        vertical-align: top;\n",
       "    }\n",
       "\n",
       "    .dataframe thead th {\n",
       "        text-align: right;\n",
       "    }\n",
       "</style>\n",
       "<table border=\"1\" class=\"dataframe\">\n",
       "  <thead>\n",
       "    <tr style=\"text-align: right;\">\n",
       "      <th></th>\n",
       "      <th>title</th>\n",
       "    </tr>\n",
       "    <tr>\n",
       "      <th>imdbId</th>\n",
       "      <th></th>\n",
       "    </tr>\n",
       "  </thead>\n",
       "  <tbody>\n",
       "    <tr>\n",
       "      <th>114709</th>\n",
       "      <td>Toy Story (1995)</td>\n",
       "    </tr>\n",
       "    <tr>\n",
       "      <th>113497</th>\n",
       "      <td>Jumanji (1995)</td>\n",
       "    </tr>\n",
       "    <tr>\n",
       "      <th>113228</th>\n",
       "      <td>Grumpier Old Men (1995)</td>\n",
       "    </tr>\n",
       "    <tr>\n",
       "      <th>114885</th>\n",
       "      <td>Waiting to Exhale (1995)</td>\n",
       "    </tr>\n",
       "    <tr>\n",
       "      <th>113041</th>\n",
       "      <td>Father of the Bride Part II (1995)</td>\n",
       "    </tr>\n",
       "  </tbody>\n",
       "</table>\n",
       "</div>"
      ],
      "text/plain": [
       "                                     title\n",
       "imdbId                                    \n",
       "114709                    Toy Story (1995)\n",
       "113497                      Jumanji (1995)\n",
       "113228             Grumpier Old Men (1995)\n",
       "114885            Waiting to Exhale (1995)\n",
       "113041  Father of the Bride Part II (1995)"
      ]
     },
     "execution_count": 38,
     "metadata": {},
     "output_type": "execute_result"
    }
   ],
   "source": [
    "movies_links = links.merge(movies, on='movieId', how='inner')\n",
    "movies_links = movies_links[['imdbId', 'title']]\n",
    "movies_links.set_index('imdbId', inplace=True)\n",
    "movies_links.head()"
   ]
  },
  {
   "cell_type": "code",
   "execution_count": 39,
   "id": "6c3e22d6",
   "metadata": {},
   "outputs": [
    {
     "data": {
      "text/html": [
       "<div>\n",
       "<style scoped>\n",
       "    .dataframe tbody tr th:only-of-type {\n",
       "        vertical-align: middle;\n",
       "    }\n",
       "\n",
       "    .dataframe tbody tr th {\n",
       "        vertical-align: top;\n",
       "    }\n",
       "\n",
       "    .dataframe thead th {\n",
       "        text-align: right;\n",
       "    }\n",
       "</style>\n",
       "<table border=\"1\" class=\"dataframe\">\n",
       "  <thead>\n",
       "    <tr style=\"text-align: right;\">\n",
       "      <th></th>\n",
       "      <th>title</th>\n",
       "      <th>tagId</th>\n",
       "      <th>relevance</th>\n",
       "    </tr>\n",
       "    <tr>\n",
       "      <th>imdbId</th>\n",
       "      <th></th>\n",
       "      <th></th>\n",
       "      <th></th>\n",
       "    </tr>\n",
       "  </thead>\n",
       "  <tbody>\n",
       "    <tr>\n",
       "      <th>114709</th>\n",
       "      <td>Toy Story (1995)</td>\n",
       "      <td>1</td>\n",
       "      <td>0.02500</td>\n",
       "    </tr>\n",
       "    <tr>\n",
       "      <th>114709</th>\n",
       "      <td>Toy Story (1995)</td>\n",
       "      <td>2</td>\n",
       "      <td>0.02500</td>\n",
       "    </tr>\n",
       "    <tr>\n",
       "      <th>114709</th>\n",
       "      <td>Toy Story (1995)</td>\n",
       "      <td>3</td>\n",
       "      <td>0.05775</td>\n",
       "    </tr>\n",
       "    <tr>\n",
       "      <th>114709</th>\n",
       "      <td>Toy Story (1995)</td>\n",
       "      <td>4</td>\n",
       "      <td>0.09675</td>\n",
       "    </tr>\n",
       "    <tr>\n",
       "      <th>114709</th>\n",
       "      <td>Toy Story (1995)</td>\n",
       "      <td>5</td>\n",
       "      <td>0.14675</td>\n",
       "    </tr>\n",
       "  </tbody>\n",
       "</table>\n",
       "</div>"
      ],
      "text/plain": [
       "                   title  tagId  relevance\n",
       "imdbId                                    \n",
       "114709  Toy Story (1995)      1    0.02500\n",
       "114709  Toy Story (1995)      2    0.02500\n",
       "114709  Toy Story (1995)      3    0.05775\n",
       "114709  Toy Story (1995)      4    0.09675\n",
       "114709  Toy Story (1995)      5    0.14675"
      ]
     },
     "execution_count": 39,
     "metadata": {},
     "output_type": "execute_result"
    }
   ],
   "source": [
    "movies_genome_scores = genome_links.merge(movies_links, on='imdbId', how='inner')\n",
    "movies_genome_scores = movies_genome_scores[['imdbId','title', 'tagId', 'relevance']]\n",
    "movies_genome_scores.set_index('imdbId', inplace=True)\n",
    "movies_genome_scores.head()"
   ]
  },
  {
   "cell_type": "code",
   "execution_count": 40,
   "id": "3187571f",
   "metadata": {},
   "outputs": [
    {
     "data": {
      "text/html": [
       "<div>\n",
       "<style scoped>\n",
       "    .dataframe tbody tr th:only-of-type {\n",
       "        vertical-align: middle;\n",
       "    }\n",
       "\n",
       "    .dataframe tbody tr th {\n",
       "        vertical-align: top;\n",
       "    }\n",
       "\n",
       "    .dataframe thead th {\n",
       "        text-align: right;\n",
       "    }\n",
       "</style>\n",
       "<table border=\"1\" class=\"dataframe\">\n",
       "  <thead>\n",
       "    <tr style=\"text-align: right;\">\n",
       "      <th></th>\n",
       "      <th>(no genres listed)</th>\n",
       "      <th>Action</th>\n",
       "      <th>Adventure</th>\n",
       "      <th>Animation</th>\n",
       "      <th>Children</th>\n",
       "      <th>Comedy</th>\n",
       "      <th>Crime</th>\n",
       "      <th>Documentary</th>\n",
       "      <th>Drama</th>\n",
       "      <th>Fantasy</th>\n",
       "      <th>Film-Noir</th>\n",
       "      <th>Horror</th>\n",
       "      <th>IMAX</th>\n",
       "      <th>Musical</th>\n",
       "      <th>Mystery</th>\n",
       "      <th>Romance</th>\n",
       "      <th>Sci-Fi</th>\n",
       "      <th>Thriller</th>\n",
       "      <th>War</th>\n",
       "      <th>Western</th>\n",
       "    </tr>\n",
       "    <tr>\n",
       "      <th>title</th>\n",
       "      <th></th>\n",
       "      <th></th>\n",
       "      <th></th>\n",
       "      <th></th>\n",
       "      <th></th>\n",
       "      <th></th>\n",
       "      <th></th>\n",
       "      <th></th>\n",
       "      <th></th>\n",
       "      <th></th>\n",
       "      <th></th>\n",
       "      <th></th>\n",
       "      <th></th>\n",
       "      <th></th>\n",
       "      <th></th>\n",
       "      <th></th>\n",
       "      <th></th>\n",
       "      <th></th>\n",
       "      <th></th>\n",
       "      <th></th>\n",
       "    </tr>\n",
       "  </thead>\n",
       "  <tbody>\n",
       "    <tr>\n",
       "      <th>'71 (2014)</th>\n",
       "      <td>0.0</td>\n",
       "      <td>1.0</td>\n",
       "      <td>0.0</td>\n",
       "      <td>0.0</td>\n",
       "      <td>0.0</td>\n",
       "      <td>0.0</td>\n",
       "      <td>0.0</td>\n",
       "      <td>0.0</td>\n",
       "      <td>1.0</td>\n",
       "      <td>0.0</td>\n",
       "      <td>0.0</td>\n",
       "      <td>0.0</td>\n",
       "      <td>0.0</td>\n",
       "      <td>0.0</td>\n",
       "      <td>0.0</td>\n",
       "      <td>0.0</td>\n",
       "      <td>0.0</td>\n",
       "      <td>1.0</td>\n",
       "      <td>1.0</td>\n",
       "      <td>0.0</td>\n",
       "    </tr>\n",
       "    <tr>\n",
       "      <th>'Hellboy': The Seeds of Creation (2004)</th>\n",
       "      <td>0.0</td>\n",
       "      <td>1.0</td>\n",
       "      <td>1.0</td>\n",
       "      <td>0.0</td>\n",
       "      <td>0.0</td>\n",
       "      <td>1.0</td>\n",
       "      <td>0.0</td>\n",
       "      <td>1.0</td>\n",
       "      <td>0.0</td>\n",
       "      <td>1.0</td>\n",
       "      <td>0.0</td>\n",
       "      <td>0.0</td>\n",
       "      <td>0.0</td>\n",
       "      <td>0.0</td>\n",
       "      <td>0.0</td>\n",
       "      <td>0.0</td>\n",
       "      <td>0.0</td>\n",
       "      <td>0.0</td>\n",
       "      <td>0.0</td>\n",
       "      <td>0.0</td>\n",
       "    </tr>\n",
       "    <tr>\n",
       "      <th>'Round Midnight (1986)</th>\n",
       "      <td>0.0</td>\n",
       "      <td>0.0</td>\n",
       "      <td>0.0</td>\n",
       "      <td>0.0</td>\n",
       "      <td>0.0</td>\n",
       "      <td>0.0</td>\n",
       "      <td>0.0</td>\n",
       "      <td>0.0</td>\n",
       "      <td>1.0</td>\n",
       "      <td>0.0</td>\n",
       "      <td>0.0</td>\n",
       "      <td>0.0</td>\n",
       "      <td>0.0</td>\n",
       "      <td>1.0</td>\n",
       "      <td>0.0</td>\n",
       "      <td>0.0</td>\n",
       "      <td>0.0</td>\n",
       "      <td>0.0</td>\n",
       "      <td>0.0</td>\n",
       "      <td>0.0</td>\n",
       "    </tr>\n",
       "    <tr>\n",
       "      <th>'Salem's Lot (2004)</th>\n",
       "      <td>0.0</td>\n",
       "      <td>0.0</td>\n",
       "      <td>0.0</td>\n",
       "      <td>0.0</td>\n",
       "      <td>0.0</td>\n",
       "      <td>0.0</td>\n",
       "      <td>0.0</td>\n",
       "      <td>0.0</td>\n",
       "      <td>1.0</td>\n",
       "      <td>0.0</td>\n",
       "      <td>0.0</td>\n",
       "      <td>1.0</td>\n",
       "      <td>0.0</td>\n",
       "      <td>0.0</td>\n",
       "      <td>1.0</td>\n",
       "      <td>0.0</td>\n",
       "      <td>0.0</td>\n",
       "      <td>1.0</td>\n",
       "      <td>0.0</td>\n",
       "      <td>0.0</td>\n",
       "    </tr>\n",
       "    <tr>\n",
       "      <th>'Til There Was You (1997)</th>\n",
       "      <td>0.0</td>\n",
       "      <td>0.0</td>\n",
       "      <td>0.0</td>\n",
       "      <td>0.0</td>\n",
       "      <td>0.0</td>\n",
       "      <td>0.0</td>\n",
       "      <td>0.0</td>\n",
       "      <td>0.0</td>\n",
       "      <td>1.0</td>\n",
       "      <td>0.0</td>\n",
       "      <td>0.0</td>\n",
       "      <td>0.0</td>\n",
       "      <td>0.0</td>\n",
       "      <td>0.0</td>\n",
       "      <td>0.0</td>\n",
       "      <td>1.0</td>\n",
       "      <td>0.0</td>\n",
       "      <td>0.0</td>\n",
       "      <td>0.0</td>\n",
       "      <td>0.0</td>\n",
       "    </tr>\n",
       "  </tbody>\n",
       "</table>\n",
       "</div>"
      ],
      "text/plain": [
       "                                         (no genres listed)  Action  \\\n",
       "title                                                                 \n",
       "'71 (2014)                                              0.0     1.0   \n",
       "'Hellboy': The Seeds of Creation (2004)                 0.0     1.0   \n",
       "'Round Midnight (1986)                                  0.0     0.0   \n",
       "'Salem's Lot (2004)                                     0.0     0.0   \n",
       "'Til There Was You (1997)                               0.0     0.0   \n",
       "\n",
       "                                         Adventure  Animation  Children  \\\n",
       "title                                                                     \n",
       "'71 (2014)                                     0.0        0.0       0.0   \n",
       "'Hellboy': The Seeds of Creation (2004)        1.0        0.0       0.0   \n",
       "'Round Midnight (1986)                         0.0        0.0       0.0   \n",
       "'Salem's Lot (2004)                            0.0        0.0       0.0   \n",
       "'Til There Was You (1997)                      0.0        0.0       0.0   \n",
       "\n",
       "                                         Comedy  Crime  Documentary  Drama  \\\n",
       "title                                                                        \n",
       "'71 (2014)                                  0.0    0.0          0.0    1.0   \n",
       "'Hellboy': The Seeds of Creation (2004)     1.0    0.0          1.0    0.0   \n",
       "'Round Midnight (1986)                      0.0    0.0          0.0    1.0   \n",
       "'Salem's Lot (2004)                         0.0    0.0          0.0    1.0   \n",
       "'Til There Was You (1997)                   0.0    0.0          0.0    1.0   \n",
       "\n",
       "                                         Fantasy  Film-Noir  Horror  IMAX  \\\n",
       "title                                                                       \n",
       "'71 (2014)                                   0.0        0.0     0.0   0.0   \n",
       "'Hellboy': The Seeds of Creation (2004)      1.0        0.0     0.0   0.0   \n",
       "'Round Midnight (1986)                       0.0        0.0     0.0   0.0   \n",
       "'Salem's Lot (2004)                          0.0        0.0     1.0   0.0   \n",
       "'Til There Was You (1997)                    0.0        0.0     0.0   0.0   \n",
       "\n",
       "                                         Musical  Mystery  Romance  Sci-Fi  \\\n",
       "title                                                                        \n",
       "'71 (2014)                                   0.0      0.0      0.0     0.0   \n",
       "'Hellboy': The Seeds of Creation (2004)      0.0      0.0      0.0     0.0   \n",
       "'Round Midnight (1986)                       1.0      0.0      0.0     0.0   \n",
       "'Salem's Lot (2004)                          0.0      1.0      0.0     0.0   \n",
       "'Til There Was You (1997)                    0.0      0.0      1.0     0.0   \n",
       "\n",
       "                                         Thriller  War  Western  \n",
       "title                                                            \n",
       "'71 (2014)                                    1.0  1.0      0.0  \n",
       "'Hellboy': The Seeds of Creation (2004)       0.0  0.0      0.0  \n",
       "'Round Midnight (1986)                        0.0  0.0      0.0  \n",
       "'Salem's Lot (2004)                           1.0  0.0      0.0  \n",
       "'Til There Was You (1997)                     0.0  0.0      0.0  "
      ]
     },
     "execution_count": 40,
     "metadata": {},
     "output_type": "execute_result"
    }
   ],
   "source": [
    "movie_genres = movies_genome_scores.merge(cleaned_movies, on='title', how='outer')\n",
    "movie_genres = movie_genres.drop(columns={'tagId', 'relevance', 'year_released'})\n",
    "movie_genres.set_index('title', inplace=True)\n",
    "movie_genres = movie_genres.groupby(['title']).max()\n",
    "movie_genres.head()"
   ]
  },
  {
   "cell_type": "code",
   "execution_count": 41,
   "id": "158f2bff",
   "metadata": {},
   "outputs": [
    {
     "data": {
      "text/plain": [
       "title         object\n",
       "tagId          int64\n",
       "relevance    float64\n",
       "dtype: object"
      ]
     },
     "execution_count": 41,
     "metadata": {},
     "output_type": "execute_result"
    }
   ],
   "source": [
    "movies_genome_scores.dtypes"
   ]
  },
  {
   "cell_type": "markdown",
   "id": "71dfe85b",
   "metadata": {},
   "source": [
    "### Scaling Tag values"
   ]
  },
  {
   "cell_type": "code",
   "execution_count": 42,
   "id": "62ff69d1",
   "metadata": {},
   "outputs": [
    {
     "data": {
      "text/html": [
       "<div>\n",
       "<style scoped>\n",
       "    .dataframe tbody tr th:only-of-type {\n",
       "        vertical-align: middle;\n",
       "    }\n",
       "\n",
       "    .dataframe tbody tr th {\n",
       "        vertical-align: top;\n",
       "    }\n",
       "\n",
       "    .dataframe thead th {\n",
       "        text-align: right;\n",
       "    }\n",
       "</style>\n",
       "<table border=\"1\" class=\"dataframe\">\n",
       "  <thead>\n",
       "    <tr style=\"text-align: right;\">\n",
       "      <th>tag</th>\n",
       "      <th>007</th>\n",
       "      <th>007 (series)</th>\n",
       "      <th>18th century</th>\n",
       "      <th>1920s</th>\n",
       "      <th>1930s</th>\n",
       "      <th>1950s</th>\n",
       "      <th>1960s</th>\n",
       "      <th>1970s</th>\n",
       "      <th>1980s</th>\n",
       "      <th>19th century</th>\n",
       "      <th>...</th>\n",
       "      <th>world politics</th>\n",
       "      <th>world war i</th>\n",
       "      <th>world war ii</th>\n",
       "      <th>writer's life</th>\n",
       "      <th>writers</th>\n",
       "      <th>writing</th>\n",
       "      <th>wuxia</th>\n",
       "      <th>wwii</th>\n",
       "      <th>zombie</th>\n",
       "      <th>zombies</th>\n",
       "    </tr>\n",
       "    <tr>\n",
       "      <th>title</th>\n",
       "      <th></th>\n",
       "      <th></th>\n",
       "      <th></th>\n",
       "      <th></th>\n",
       "      <th></th>\n",
       "      <th></th>\n",
       "      <th></th>\n",
       "      <th></th>\n",
       "      <th></th>\n",
       "      <th></th>\n",
       "      <th></th>\n",
       "      <th></th>\n",
       "      <th></th>\n",
       "      <th></th>\n",
       "      <th></th>\n",
       "      <th></th>\n",
       "      <th></th>\n",
       "      <th></th>\n",
       "      <th></th>\n",
       "      <th></th>\n",
       "      <th></th>\n",
       "    </tr>\n",
       "  </thead>\n",
       "  <tbody>\n",
       "    <tr>\n",
       "      <th>'71 (2014)</th>\n",
       "      <td>-0.447131</td>\n",
       "      <td>-0.487642</td>\n",
       "      <td>-0.209074</td>\n",
       "      <td>-0.330525</td>\n",
       "      <td>-0.156456</td>\n",
       "      <td>-0.493463</td>\n",
       "      <td>-0.417767</td>\n",
       "      <td>1.542956</td>\n",
       "      <td>-0.301315</td>\n",
       "      <td>-0.381991</td>\n",
       "      <td>...</td>\n",
       "      <td>2.095667</td>\n",
       "      <td>2.812088</td>\n",
       "      <td>-0.022545</td>\n",
       "      <td>-0.107320</td>\n",
       "      <td>-0.882885</td>\n",
       "      <td>-0.745238</td>\n",
       "      <td>-0.387073</td>\n",
       "      <td>0.340927</td>\n",
       "      <td>-0.406665</td>\n",
       "      <td>-0.152156</td>\n",
       "    </tr>\n",
       "    <tr>\n",
       "      <th>'Round Midnight (1986)</th>\n",
       "      <td>-0.366513</td>\n",
       "      <td>-0.364797</td>\n",
       "      <td>-0.438749</td>\n",
       "      <td>0.399486</td>\n",
       "      <td>2.517655</td>\n",
       "      <td>1.637084</td>\n",
       "      <td>4.133700</td>\n",
       "      <td>0.925882</td>\n",
       "      <td>-0.195111</td>\n",
       "      <td>-0.555079</td>\n",
       "      <td>...</td>\n",
       "      <td>0.975574</td>\n",
       "      <td>0.095024</td>\n",
       "      <td>-0.261504</td>\n",
       "      <td>0.529154</td>\n",
       "      <td>-0.409071</td>\n",
       "      <td>0.078215</td>\n",
       "      <td>0.547655</td>\n",
       "      <td>-0.278982</td>\n",
       "      <td>-0.527512</td>\n",
       "      <td>-0.167342</td>\n",
       "    </tr>\n",
       "    <tr>\n",
       "      <th>'Til There Was You (1997)</th>\n",
       "      <td>0.100399</td>\n",
       "      <td>0.353660</td>\n",
       "      <td>-0.319408</td>\n",
       "      <td>-0.505394</td>\n",
       "      <td>-0.501827</td>\n",
       "      <td>-0.533427</td>\n",
       "      <td>-0.086857</td>\n",
       "      <td>-0.720319</td>\n",
       "      <td>-0.541580</td>\n",
       "      <td>-0.416084</td>\n",
       "      <td>...</td>\n",
       "      <td>-0.420705</td>\n",
       "      <td>-0.321384</td>\n",
       "      <td>-0.289210</td>\n",
       "      <td>-0.433802</td>\n",
       "      <td>1.496137</td>\n",
       "      <td>1.741871</td>\n",
       "      <td>-0.278460</td>\n",
       "      <td>-0.261763</td>\n",
       "      <td>-0.102128</td>\n",
       "      <td>-0.161268</td>\n",
       "    </tr>\n",
       "    <tr>\n",
       "      <th>'burbs, The (1989)</th>\n",
       "      <td>-0.151532</td>\n",
       "      <td>-0.130275</td>\n",
       "      <td>-0.420735</td>\n",
       "      <td>-0.485964</td>\n",
       "      <td>-0.245314</td>\n",
       "      <td>-0.411039</td>\n",
       "      <td>-0.426475</td>\n",
       "      <td>-0.615798</td>\n",
       "      <td>1.436251</td>\n",
       "      <td>-0.421329</td>\n",
       "      <td>...</td>\n",
       "      <td>-0.453311</td>\n",
       "      <td>-0.317914</td>\n",
       "      <td>-0.271894</td>\n",
       "      <td>-0.318379</td>\n",
       "      <td>0.269796</td>\n",
       "      <td>-0.301411</td>\n",
       "      <td>-0.271877</td>\n",
       "      <td>-0.252196</td>\n",
       "      <td>0.714803</td>\n",
       "      <td>-0.024596</td>\n",
       "    </tr>\n",
       "    <tr>\n",
       "      <th>'night Mother (1986)</th>\n",
       "      <td>-0.175045</td>\n",
       "      <td>-0.156333</td>\n",
       "      <td>-0.303646</td>\n",
       "      <td>-0.477637</td>\n",
       "      <td>-0.208429</td>\n",
       "      <td>-0.103820</td>\n",
       "      <td>-0.342296</td>\n",
       "      <td>-0.278116</td>\n",
       "      <td>-0.473679</td>\n",
       "      <td>-0.458045</td>\n",
       "      <td>...</td>\n",
       "      <td>-0.188631</td>\n",
       "      <td>-0.231162</td>\n",
       "      <td>-0.157609</td>\n",
       "      <td>1.409665</td>\n",
       "      <td>-0.211981</td>\n",
       "      <td>-0.128346</td>\n",
       "      <td>0.215234</td>\n",
       "      <td>-0.189057</td>\n",
       "      <td>-0.160135</td>\n",
       "      <td>-0.036745</td>\n",
       "    </tr>\n",
       "  </tbody>\n",
       "</table>\n",
       "<p>5 rows × 1128 columns</p>\n",
       "</div>"
      ],
      "text/plain": [
       "tag                             007  007 (series)  18th century     1920s  \\\n",
       "title                                                                       \n",
       "'71 (2014)                -0.447131     -0.487642     -0.209074 -0.330525   \n",
       "'Round Midnight (1986)    -0.366513     -0.364797     -0.438749  0.399486   \n",
       "'Til There Was You (1997)  0.100399      0.353660     -0.319408 -0.505394   \n",
       "'burbs, The (1989)        -0.151532     -0.130275     -0.420735 -0.485964   \n",
       "'night Mother (1986)      -0.175045     -0.156333     -0.303646 -0.477637   \n",
       "\n",
       "tag                           1930s     1950s     1960s     1970s     1980s  \\\n",
       "title                                                                         \n",
       "'71 (2014)                -0.156456 -0.493463 -0.417767  1.542956 -0.301315   \n",
       "'Round Midnight (1986)     2.517655  1.637084  4.133700  0.925882 -0.195111   \n",
       "'Til There Was You (1997) -0.501827 -0.533427 -0.086857 -0.720319 -0.541580   \n",
       "'burbs, The (1989)        -0.245314 -0.411039 -0.426475 -0.615798  1.436251   \n",
       "'night Mother (1986)      -0.208429 -0.103820 -0.342296 -0.278116 -0.473679   \n",
       "\n",
       "tag                        19th century  ...  world politics  world war i  \\\n",
       "title                                    ...                                \n",
       "'71 (2014)                    -0.381991  ...        2.095667     2.812088   \n",
       "'Round Midnight (1986)        -0.555079  ...        0.975574     0.095024   \n",
       "'Til There Was You (1997)     -0.416084  ...       -0.420705    -0.321384   \n",
       "'burbs, The (1989)            -0.421329  ...       -0.453311    -0.317914   \n",
       "'night Mother (1986)          -0.458045  ...       -0.188631    -0.231162   \n",
       "\n",
       "tag                        world war ii  writer's life   writers   writing  \\\n",
       "title                                                                        \n",
       "'71 (2014)                    -0.022545      -0.107320 -0.882885 -0.745238   \n",
       "'Round Midnight (1986)        -0.261504       0.529154 -0.409071  0.078215   \n",
       "'Til There Was You (1997)     -0.289210      -0.433802  1.496137  1.741871   \n",
       "'burbs, The (1989)            -0.271894      -0.318379  0.269796 -0.301411   \n",
       "'night Mother (1986)          -0.157609       1.409665 -0.211981 -0.128346   \n",
       "\n",
       "tag                           wuxia      wwii    zombie   zombies  \n",
       "title                                                              \n",
       "'71 (2014)                -0.387073  0.340927 -0.406665 -0.152156  \n",
       "'Round Midnight (1986)     0.547655 -0.278982 -0.527512 -0.167342  \n",
       "'Til There Was You (1997) -0.278460 -0.261763 -0.102128 -0.161268  \n",
       "'burbs, The (1989)        -0.271877 -0.252196  0.714803 -0.024596  \n",
       "'night Mother (1986)       0.215234 -0.189057 -0.160135 -0.036745  \n",
       "\n",
       "[5 rows x 1128 columns]"
      ]
     },
     "execution_count": 42,
     "metadata": {},
     "output_type": "execute_result"
    }
   ],
   "source": [
    "from sklearn.preprocessing import StandardScaler\n",
    "\n",
    "scaler = StandardScaler()\n",
    "scaled_features = scaler.fit_transform(pivoted_movie_tags)  # Exclude non-feature columns\n",
    "scaled_tags = pd.DataFrame(scaled_features, index=pivoted_movie_tags.index, columns=pivoted_movie_tags.columns)\n",
    "\n",
    "scaled_tags.head()"
   ]
  },
  {
   "cell_type": "code",
   "execution_count": 43,
   "id": "d32fb8c0",
   "metadata": {},
   "outputs": [
    {
     "data": {
      "text/html": [
       "<div>\n",
       "<style scoped>\n",
       "    .dataframe tbody tr th:only-of-type {\n",
       "        vertical-align: middle;\n",
       "    }\n",
       "\n",
       "    .dataframe tbody tr th {\n",
       "        vertical-align: top;\n",
       "    }\n",
       "\n",
       "    .dataframe thead th {\n",
       "        text-align: right;\n",
       "    }\n",
       "</style>\n",
       "<table border=\"1\" class=\"dataframe\">\n",
       "  <thead>\n",
       "    <tr style=\"text-align: right;\">\n",
       "      <th></th>\n",
       "      <th>Action</th>\n",
       "      <th>Adventure</th>\n",
       "      <th>Animation</th>\n",
       "      <th>Children</th>\n",
       "      <th>Comedy</th>\n",
       "      <th>Crime</th>\n",
       "      <th>Documentary</th>\n",
       "      <th>Drama</th>\n",
       "      <th>Fantasy</th>\n",
       "      <th>Film-Noir</th>\n",
       "      <th>...</th>\n",
       "      <th>world politics</th>\n",
       "      <th>world war i</th>\n",
       "      <th>world war ii</th>\n",
       "      <th>writer's life</th>\n",
       "      <th>writers</th>\n",
       "      <th>writing</th>\n",
       "      <th>wuxia</th>\n",
       "      <th>wwii</th>\n",
       "      <th>zombie</th>\n",
       "      <th>zombies</th>\n",
       "    </tr>\n",
       "    <tr>\n",
       "      <th>title</th>\n",
       "      <th></th>\n",
       "      <th></th>\n",
       "      <th></th>\n",
       "      <th></th>\n",
       "      <th></th>\n",
       "      <th></th>\n",
       "      <th></th>\n",
       "      <th></th>\n",
       "      <th></th>\n",
       "      <th></th>\n",
       "      <th></th>\n",
       "      <th></th>\n",
       "      <th></th>\n",
       "      <th></th>\n",
       "      <th></th>\n",
       "      <th></th>\n",
       "      <th></th>\n",
       "      <th></th>\n",
       "      <th></th>\n",
       "      <th></th>\n",
       "      <th></th>\n",
       "    </tr>\n",
       "  </thead>\n",
       "  <tbody>\n",
       "    <tr>\n",
       "      <th>'71 (2014)</th>\n",
       "      <td>1.0</td>\n",
       "      <td>0.0</td>\n",
       "      <td>0.0</td>\n",
       "      <td>0.0</td>\n",
       "      <td>0.0</td>\n",
       "      <td>0.0</td>\n",
       "      <td>0.0</td>\n",
       "      <td>1.0</td>\n",
       "      <td>0.0</td>\n",
       "      <td>0.0</td>\n",
       "      <td>...</td>\n",
       "      <td>2.095667</td>\n",
       "      <td>2.812088</td>\n",
       "      <td>-0.022545</td>\n",
       "      <td>-0.107320</td>\n",
       "      <td>-0.882885</td>\n",
       "      <td>-0.745238</td>\n",
       "      <td>-0.387073</td>\n",
       "      <td>0.340927</td>\n",
       "      <td>-0.406665</td>\n",
       "      <td>-0.152156</td>\n",
       "    </tr>\n",
       "    <tr>\n",
       "      <th>'Hellboy': The Seeds of Creation (2004)</th>\n",
       "      <td>1.0</td>\n",
       "      <td>1.0</td>\n",
       "      <td>0.0</td>\n",
       "      <td>0.0</td>\n",
       "      <td>1.0</td>\n",
       "      <td>0.0</td>\n",
       "      <td>1.0</td>\n",
       "      <td>0.0</td>\n",
       "      <td>1.0</td>\n",
       "      <td>0.0</td>\n",
       "      <td>...</td>\n",
       "      <td>0.000000</td>\n",
       "      <td>0.000000</td>\n",
       "      <td>0.000000</td>\n",
       "      <td>0.000000</td>\n",
       "      <td>0.000000</td>\n",
       "      <td>0.000000</td>\n",
       "      <td>0.000000</td>\n",
       "      <td>0.000000</td>\n",
       "      <td>0.000000</td>\n",
       "      <td>0.000000</td>\n",
       "    </tr>\n",
       "    <tr>\n",
       "      <th>'Round Midnight (1986)</th>\n",
       "      <td>0.0</td>\n",
       "      <td>0.0</td>\n",
       "      <td>0.0</td>\n",
       "      <td>0.0</td>\n",
       "      <td>0.0</td>\n",
       "      <td>0.0</td>\n",
       "      <td>0.0</td>\n",
       "      <td>1.0</td>\n",
       "      <td>0.0</td>\n",
       "      <td>0.0</td>\n",
       "      <td>...</td>\n",
       "      <td>0.975574</td>\n",
       "      <td>0.095024</td>\n",
       "      <td>-0.261504</td>\n",
       "      <td>0.529154</td>\n",
       "      <td>-0.409071</td>\n",
       "      <td>0.078215</td>\n",
       "      <td>0.547655</td>\n",
       "      <td>-0.278982</td>\n",
       "      <td>-0.527512</td>\n",
       "      <td>-0.167342</td>\n",
       "    </tr>\n",
       "    <tr>\n",
       "      <th>'Salem's Lot (2004)</th>\n",
       "      <td>0.0</td>\n",
       "      <td>0.0</td>\n",
       "      <td>0.0</td>\n",
       "      <td>0.0</td>\n",
       "      <td>0.0</td>\n",
       "      <td>0.0</td>\n",
       "      <td>0.0</td>\n",
       "      <td>1.0</td>\n",
       "      <td>0.0</td>\n",
       "      <td>0.0</td>\n",
       "      <td>...</td>\n",
       "      <td>0.000000</td>\n",
       "      <td>0.000000</td>\n",
       "      <td>0.000000</td>\n",
       "      <td>0.000000</td>\n",
       "      <td>0.000000</td>\n",
       "      <td>0.000000</td>\n",
       "      <td>0.000000</td>\n",
       "      <td>0.000000</td>\n",
       "      <td>0.000000</td>\n",
       "      <td>0.000000</td>\n",
       "    </tr>\n",
       "    <tr>\n",
       "      <th>'Til There Was You (1997)</th>\n",
       "      <td>0.0</td>\n",
       "      <td>0.0</td>\n",
       "      <td>0.0</td>\n",
       "      <td>0.0</td>\n",
       "      <td>0.0</td>\n",
       "      <td>0.0</td>\n",
       "      <td>0.0</td>\n",
       "      <td>1.0</td>\n",
       "      <td>0.0</td>\n",
       "      <td>0.0</td>\n",
       "      <td>...</td>\n",
       "      <td>-0.420705</td>\n",
       "      <td>-0.321384</td>\n",
       "      <td>-0.289210</td>\n",
       "      <td>-0.433802</td>\n",
       "      <td>1.496137</td>\n",
       "      <td>1.741871</td>\n",
       "      <td>-0.278460</td>\n",
       "      <td>-0.261763</td>\n",
       "      <td>-0.102128</td>\n",
       "      <td>-0.161268</td>\n",
       "    </tr>\n",
       "  </tbody>\n",
       "</table>\n",
       "<p>5 rows × 1147 columns</p>\n",
       "</div>"
      ],
      "text/plain": [
       "                                         Action  Adventure  Animation  \\\n",
       "title                                                                   \n",
       "'71 (2014)                                  1.0        0.0        0.0   \n",
       "'Hellboy': The Seeds of Creation (2004)     1.0        1.0        0.0   \n",
       "'Round Midnight (1986)                      0.0        0.0        0.0   \n",
       "'Salem's Lot (2004)                         0.0        0.0        0.0   \n",
       "'Til There Was You (1997)                   0.0        0.0        0.0   \n",
       "\n",
       "                                         Children  Comedy  Crime  Documentary  \\\n",
       "title                                                                           \n",
       "'71 (2014)                                    0.0     0.0    0.0          0.0   \n",
       "'Hellboy': The Seeds of Creation (2004)       0.0     1.0    0.0          1.0   \n",
       "'Round Midnight (1986)                        0.0     0.0    0.0          0.0   \n",
       "'Salem's Lot (2004)                           0.0     0.0    0.0          0.0   \n",
       "'Til There Was You (1997)                     0.0     0.0    0.0          0.0   \n",
       "\n",
       "                                         Drama  Fantasy  Film-Noir  ...  \\\n",
       "title                                                               ...   \n",
       "'71 (2014)                                 1.0      0.0        0.0  ...   \n",
       "'Hellboy': The Seeds of Creation (2004)    0.0      1.0        0.0  ...   \n",
       "'Round Midnight (1986)                     1.0      0.0        0.0  ...   \n",
       "'Salem's Lot (2004)                        1.0      0.0        0.0  ...   \n",
       "'Til There Was You (1997)                  1.0      0.0        0.0  ...   \n",
       "\n",
       "                                         world politics  world war i  \\\n",
       "title                                                                  \n",
       "'71 (2014)                                     2.095667     2.812088   \n",
       "'Hellboy': The Seeds of Creation (2004)        0.000000     0.000000   \n",
       "'Round Midnight (1986)                         0.975574     0.095024   \n",
       "'Salem's Lot (2004)                            0.000000     0.000000   \n",
       "'Til There Was You (1997)                     -0.420705    -0.321384   \n",
       "\n",
       "                                         world war ii  writer's life  \\\n",
       "title                                                                  \n",
       "'71 (2014)                                  -0.022545      -0.107320   \n",
       "'Hellboy': The Seeds of Creation (2004)      0.000000       0.000000   \n",
       "'Round Midnight (1986)                      -0.261504       0.529154   \n",
       "'Salem's Lot (2004)                          0.000000       0.000000   \n",
       "'Til There Was You (1997)                   -0.289210      -0.433802   \n",
       "\n",
       "                                          writers   writing     wuxia  \\\n",
       "title                                                                   \n",
       "'71 (2014)                              -0.882885 -0.745238 -0.387073   \n",
       "'Hellboy': The Seeds of Creation (2004)  0.000000  0.000000  0.000000   \n",
       "'Round Midnight (1986)                  -0.409071  0.078215  0.547655   \n",
       "'Salem's Lot (2004)                      0.000000  0.000000  0.000000   \n",
       "'Til There Was You (1997)                1.496137  1.741871 -0.278460   \n",
       "\n",
       "                                             wwii    zombie   zombies  \n",
       "title                                                                  \n",
       "'71 (2014)                               0.340927 -0.406665 -0.152156  \n",
       "'Hellboy': The Seeds of Creation (2004)  0.000000  0.000000  0.000000  \n",
       "'Round Midnight (1986)                  -0.278982 -0.527512 -0.167342  \n",
       "'Salem's Lot (2004)                      0.000000  0.000000  0.000000  \n",
       "'Til There Was You (1997)               -0.261763 -0.102128 -0.161268  \n",
       "\n",
       "[5 rows x 1147 columns]"
      ]
     },
     "execution_count": 43,
     "metadata": {},
     "output_type": "execute_result"
    }
   ],
   "source": [
    "data  = movie_genres.merge(scaled_tags, on='title', how='outer').fillna(0)\n",
    "data = data.drop(columns={'(no genres listed)'})\n",
    "data.columns = data.columns.astype(str)\n",
    "data.head()"
   ]
  },
  {
   "cell_type": "markdown",
   "id": "a715452b",
   "metadata": {},
   "source": [
    "## Models"
   ]
  },
  {
   "cell_type": "markdown",
   "id": "37fa1499",
   "metadata": {},
   "source": [
    "### Recommend closest titles"
   ]
  },
  {
   "cell_type": "code",
   "execution_count": 44,
   "id": "18b4d90e",
   "metadata": {},
   "outputs": [
    {
     "data": {
      "text/plain": [
       "array([[ 1.        ,  0.0152112 , -0.01123417, ..., -0.11369075,\n",
       "        -0.14832602,  0.02622151],\n",
       "       [ 0.0152112 ,  1.        ,  0.        , ...,  0.01214559,\n",
       "         0.01542094,  0.01271905],\n",
       "       [-0.01123417,  0.        ,  1.        , ..., -0.14627468,\n",
       "        -0.12283466,  0.29608117],\n",
       "       ...,\n",
       "       [-0.11369075,  0.01214559, -0.14627468, ...,  1.        ,\n",
       "         0.08698715, -0.18073108],\n",
       "       [-0.14832602,  0.01542094, -0.12283466, ...,  0.08698715,\n",
       "         1.        , -0.05293233],\n",
       "       [ 0.02622151,  0.01271905,  0.29608117, ..., -0.18073108,\n",
       "        -0.05293233,  1.        ]])"
      ]
     },
     "execution_count": 44,
     "metadata": {},
     "output_type": "execute_result"
    }
   ],
   "source": [
    "from sklearn.metrics.pairwise import cosine_similarity\n",
    "\n",
    "# Compute the cosine similarity matrix\n",
    "similarity_matrix = cosine_similarity(data)\n",
    "similarity_matrix"
   ]
  },
  {
   "cell_type": "markdown",
   "id": "0e760b06",
   "metadata": {},
   "source": [
    "#### Function to return n-nearest titles"
   ]
  },
  {
   "cell_type": "code",
   "execution_count": 45,
   "id": "49011ade",
   "metadata": {},
   "outputs": [],
   "source": [
    "def recommend_movies(movie_title, num_movies=5):\n",
    "    # Ensure the movie_title exists in the dataset\n",
    "    if movie_title not in data.index:\n",
    "        return \"Movie title not found in the dataset.\"\n",
    "    \n",
    "    # Find the row index of the movie\n",
    "    movie_idx = list(data.index).index(movie_title)\n",
    "    \n",
    "    # Get similarity values with other movies\n",
    "    similarity_scores = list(enumerate(similarity_matrix[movie_idx]))\n",
    "    \n",
    "    # Sort the movies based on the similarity scores\n",
    "    similarity_scores = sorted(similarity_scores, key=lambda x: x[1], reverse=True)\n",
    "    \n",
    "    # Get the scores of the top-n most similar movies, excluding the first one (itself)\n",
    "    most_similar_movies = similarity_scores[1:num_movies+1]\n",
    "    \n",
    "    # Get movie titles for the most similar movies\n",
    "    movie_titles = [data.index[i[0]] for i in most_similar_movies]\n",
    "    return movie_titles"
   ]
  },
  {
   "cell_type": "markdown",
   "id": "5d2fee40",
   "metadata": {},
   "source": [
    "#### Example Outputs"
   ]
  },
  {
   "cell_type": "code",
   "execution_count": 46,
   "id": "4da9a380",
   "metadata": {},
   "outputs": [
    {
     "data": {
      "text/plain": [
       "['Toy Story 2 (1999)',\n",
       " 'Monsters, Inc. (2001)',\n",
       " 'Toy Story 3 (2010)',\n",
       " \"Bug's Life, A (1998)\",\n",
       " 'Up (2009)',\n",
       " 'Ice Age (2002)',\n",
       " 'Cars (2006)',\n",
       " 'Incredibles, The (2004)',\n",
       " 'Finding Nemo (2003)',\n",
       " 'Monsters University (2013)']"
      ]
     },
     "execution_count": 46,
     "metadata": {},
     "output_type": "execute_result"
    }
   ],
   "source": [
    "recommend_movies('Toy Story (1995)', 10)"
   ]
  },
  {
   "cell_type": "code",
   "execution_count": 47,
   "id": "ad717317",
   "metadata": {},
   "outputs": [
    {
     "data": {
      "text/plain": [
       "['Godfather: Part II, The (1974)',\n",
       " 'Goodfellas (1990)',\n",
       " 'Scarface (1983)',\n",
       " 'On the Waterfront (1954)',\n",
       " 'Departed, The (2006)',\n",
       " 'Road to Perdition (2002)',\n",
       " 'Raging Bull (1980)',\n",
       " 'Taxi Driver (1976)',\n",
       " 'Scarface (1932)',\n",
       " 'Rocco and His Brothers (Rocco e i suoi fratelli) (1960)']"
      ]
     },
     "execution_count": 47,
     "metadata": {},
     "output_type": "execute_result"
    }
   ],
   "source": [
    "recommend_movies('Godfather, The (1972)', 10)"
   ]
  },
  {
   "cell_type": "code",
   "execution_count": 48,
   "id": "8480bac2",
   "metadata": {},
   "outputs": [
    {
     "data": {
      "text/plain": [
       "['Aladdin (1992)',\n",
       " 'Tarzan (1999)',\n",
       " 'Beauty and the Beast (1991)',\n",
       " 'Jungle Book, The (1967)',\n",
       " 'Little Mermaid, The (1989)',\n",
       " 'Pinocchio (1940)',\n",
       " 'Bambi (1942)',\n",
       " 'Hercules (1997)',\n",
       " 'Robin Hood (1973)',\n",
       " 'Mulan (1998)',\n",
       " 'Fox and the Hound, The (1981)',\n",
       " 'Dumbo (1941)',\n",
       " 'Rescuers, The (1977)',\n",
       " 'Hunchback of Notre Dame, The (1996)',\n",
       " 'Ice Age (2002)',\n",
       " 'Cinderella (1950)',\n",
       " 'Snow White and the Seven Dwarfs (1937)',\n",
       " 'Pocahontas (1995)',\n",
       " 'Tangled (2010)',\n",
       " 'Lady and the Tramp (1955)',\n",
       " \"Emperor's New Groove, The (2000)\",\n",
       " 'Frozen (2013)',\n",
       " 'Many Adventures of Winnie the Pooh, The (1977)',\n",
       " 'Winnie the Pooh and the Blustery Day (1968)',\n",
       " '101 Dalmatians (One Hundred and One Dalmatians) (1961)']"
      ]
     },
     "execution_count": 48,
     "metadata": {},
     "output_type": "execute_result"
    }
   ],
   "source": [
    "recommend_movies('Lion King, The (1994)', 25)"
   ]
  },
  {
   "cell_type": "code",
   "execution_count": 49,
   "id": "fca8239d",
   "metadata": {},
   "outputs": [
    {
     "data": {
      "text/plain": [
       "['Memento (2000)',\n",
       " 'Usual Suspects, The (1995)',\n",
       " 'Predestination (2014)',\n",
       " 'Eternal Sunshine of the Spotless Mind (2004)',\n",
       " 'Matrix, The (1999)',\n",
       " 'Prestige, The (2006)',\n",
       " 'Interstellar (2014)',\n",
       " 'Donnie Darko (2001)',\n",
       " 'Mr. Nobody (2009)',\n",
       " 'Looper (2012)']"
      ]
     },
     "execution_count": 49,
     "metadata": {},
     "output_type": "execute_result"
    }
   ],
   "source": [
    "recommend_movies('Inception (2010)', 10)"
   ]
  },
  {
   "cell_type": "code",
   "execution_count": 50,
   "id": "26a90f44",
   "metadata": {},
   "outputs": [
    {
     "data": {
      "text/plain": [
       "['Honey, I Shrunk the Kids (1989)',\n",
       " 'Mighty Joe Young (1998)',\n",
       " 'Night at the Museum (2006)',\n",
       " 'Curious George (2006)',\n",
       " 'Project X (1987)',\n",
       " 'Prince of Persia: The Sands of Time (2010)',\n",
       " 'Dinosaur (2000)',\n",
       " 'Zathura (2005)',\n",
       " 'Super Mario Bros. (1993)',\n",
       " 'Journey to the Center of the Earth (2008)']"
      ]
     },
     "execution_count": 50,
     "metadata": {},
     "output_type": "execute_result"
    }
   ],
   "source": [
    "recommend_movies('Jumanji (1995)', 10)"
   ]
  },
  {
   "cell_type": "code",
   "execution_count": 51,
   "id": "d598a96a",
   "metadata": {},
   "outputs": [
    {
     "data": {
      "text/plain": [
       "['Pearl Harbor (2001)',\n",
       " 'City of Angels (1998)',\n",
       " 'Perfect Storm, The (2000)',\n",
       " 'Ghost (1990)',\n",
       " 'Titanic (1953)',\n",
       " 'Dances with Wolves (1990)',\n",
       " 'Apollo 13 (1995)',\n",
       " 'Forrest Gump (1994)',\n",
       " 'Sleepless in Seattle (1993)',\n",
       " 'Twister (1996)']"
      ]
     },
     "execution_count": 51,
     "metadata": {},
     "output_type": "execute_result"
    }
   ],
   "source": [
    "recommend_movies('Titanic (1997)', 10)"
   ]
  },
  {
   "cell_type": "code",
   "execution_count": 52,
   "id": "5c3a6b54",
   "metadata": {},
   "outputs": [
    {
     "data": {
      "text/plain": [
       "['Sweet Home Alabama (2002)',\n",
       " '27 Dresses (2008)',\n",
       " 'Maid in Manhattan (2002)',\n",
       " 'Wedding Planner, The (2001)',\n",
       " 'Two Weeks Notice (2002)',\n",
       " 'Failure to Launch (2006)',\n",
       " 'Wedding Date, The (2005)',\n",
       " 'Hitch (2005)',\n",
       " 'Life as We Know It (2010)',\n",
       " 'Someone Like You (2001)']"
      ]
     },
     "execution_count": 52,
     "metadata": {},
     "output_type": "execute_result"
    }
   ],
   "source": [
    "recommend_movies('How to Lose a Guy in 10 Days (2003)', 10)"
   ]
  },
  {
   "cell_type": "code",
   "execution_count": 53,
   "id": "86d23387",
   "metadata": {},
   "outputs": [
    {
     "data": {
      "text/plain": [
       "['Lord of the Rings: The Two Towers, The (2002)',\n",
       " 'Lord of the Rings: The Return of the King, The (2003)',\n",
       " 'Hobbit: An Unexpected Journey, The (2012)',\n",
       " 'Hobbit: The Desolation of Smaug, The (2013)',\n",
       " 'The Hobbit: The Battle of the Five Armies (2014)',\n",
       " 'Star Wars: Episode IV - A New Hope (1977)',\n",
       " 'Hunt For Gollum, The (2009)',\n",
       " 'Willow (1988)',\n",
       " 'Star Wars: Episode V - The Empire Strikes Back (1980)',\n",
       " 'Star Wars: Episode VI - Return of the Jedi (1983)']"
      ]
     },
     "execution_count": 53,
     "metadata": {},
     "output_type": "execute_result"
    }
   ],
   "source": [
    "recommend_movies('Lord of the Rings: The Fellowship of the Ring, The (2001)', 10)"
   ]
  },
  {
   "cell_type": "markdown",
   "id": "fad4d805",
   "metadata": {},
   "source": [
    "### Linear Regression\n"
   ]
  },
  {
   "cell_type": "code",
   "execution_count": 54,
   "id": "f77cca48",
   "metadata": {},
   "outputs": [
    {
     "name": "stdout",
     "output_type": "stream",
     "text": [
      "RMSE: 0.9294030117250892\n"
     ]
    }
   ],
   "source": [
    "from sklearn.model_selection import train_test_split\n",
    "\n",
    "model_data = data.merge(processed_ratings, on='title', how='outer')\n",
    "model_data = model_data[model_data['rating'].notna()]\n",
    "\n",
    "X = model_data.drop(['userId', 'title', 'rating'], axis=1)\n",
    "y = model_data['rating']\n",
    "\n",
    "X_train, X_test, y_train, y_test = train_test_split(X, y, test_size=0.2, random_state=42)\n",
    "\n",
    "# Initialize and train the model\n",
    "model = LinearRegression()\n",
    "model.fit(X_train, y_train)\n",
    "\n",
    "# Predict ratings on the test set\n",
    "y_pred = model.predict(X_test)\n",
    "\n",
    "# Evaluate the model\n",
    "rmse = np.sqrt(mean_squared_error(y_test, y_pred))\n",
    "print(f\"RMSE: {rmse}\")"
   ]
  },
  {
   "cell_type": "code",
   "execution_count": 55,
   "id": "d8316480",
   "metadata": {},
   "outputs": [
    {
     "data": {
      "text/html": [
       "<div>\n",
       "<style scoped>\n",
       "    .dataframe tbody tr th:only-of-type {\n",
       "        vertical-align: middle;\n",
       "    }\n",
       "\n",
       "    .dataframe tbody tr th {\n",
       "        vertical-align: top;\n",
       "    }\n",
       "\n",
       "    .dataframe thead th {\n",
       "        text-align: right;\n",
       "    }\n",
       "</style>\n",
       "<table border=\"1\" class=\"dataframe\">\n",
       "  <thead>\n",
       "    <tr style=\"text-align: right;\">\n",
       "      <th></th>\n",
       "      <th>title</th>\n",
       "      <th>Action</th>\n",
       "      <th>Adventure</th>\n",
       "      <th>Animation</th>\n",
       "      <th>Children</th>\n",
       "      <th>Comedy</th>\n",
       "      <th>Crime</th>\n",
       "      <th>Documentary</th>\n",
       "      <th>Drama</th>\n",
       "      <th>Fantasy</th>\n",
       "      <th>...</th>\n",
       "      <th>world war ii</th>\n",
       "      <th>writer's life</th>\n",
       "      <th>writers</th>\n",
       "      <th>writing</th>\n",
       "      <th>wuxia</th>\n",
       "      <th>wwii</th>\n",
       "      <th>zombie</th>\n",
       "      <th>zombies</th>\n",
       "      <th>userId</th>\n",
       "      <th>rating</th>\n",
       "    </tr>\n",
       "  </thead>\n",
       "  <tbody>\n",
       "    <tr>\n",
       "      <th>0</th>\n",
       "      <td>'71 (2014)</td>\n",
       "      <td>1.0</td>\n",
       "      <td>0.0</td>\n",
       "      <td>0.0</td>\n",
       "      <td>0.0</td>\n",
       "      <td>0.0</td>\n",
       "      <td>0.0</td>\n",
       "      <td>0.0</td>\n",
       "      <td>1.0</td>\n",
       "      <td>0.0</td>\n",
       "      <td>...</td>\n",
       "      <td>-0.022545</td>\n",
       "      <td>-0.107320</td>\n",
       "      <td>-0.882885</td>\n",
       "      <td>-0.745238</td>\n",
       "      <td>-0.387073</td>\n",
       "      <td>0.340927</td>\n",
       "      <td>-0.406665</td>\n",
       "      <td>-0.152156</td>\n",
       "      <td>610.0</td>\n",
       "      <td>4.0</td>\n",
       "    </tr>\n",
       "    <tr>\n",
       "      <th>1</th>\n",
       "      <td>'Hellboy': The Seeds of Creation (2004)</td>\n",
       "      <td>1.0</td>\n",
       "      <td>1.0</td>\n",
       "      <td>0.0</td>\n",
       "      <td>0.0</td>\n",
       "      <td>1.0</td>\n",
       "      <td>0.0</td>\n",
       "      <td>1.0</td>\n",
       "      <td>0.0</td>\n",
       "      <td>1.0</td>\n",
       "      <td>...</td>\n",
       "      <td>0.000000</td>\n",
       "      <td>0.000000</td>\n",
       "      <td>0.000000</td>\n",
       "      <td>0.000000</td>\n",
       "      <td>0.000000</td>\n",
       "      <td>0.000000</td>\n",
       "      <td>0.000000</td>\n",
       "      <td>0.000000</td>\n",
       "      <td>332.0</td>\n",
       "      <td>4.0</td>\n",
       "    </tr>\n",
       "    <tr>\n",
       "      <th>2</th>\n",
       "      <td>'Round Midnight (1986)</td>\n",
       "      <td>0.0</td>\n",
       "      <td>0.0</td>\n",
       "      <td>0.0</td>\n",
       "      <td>0.0</td>\n",
       "      <td>0.0</td>\n",
       "      <td>0.0</td>\n",
       "      <td>0.0</td>\n",
       "      <td>1.0</td>\n",
       "      <td>0.0</td>\n",
       "      <td>...</td>\n",
       "      <td>-0.261504</td>\n",
       "      <td>0.529154</td>\n",
       "      <td>-0.409071</td>\n",
       "      <td>0.078215</td>\n",
       "      <td>0.547655</td>\n",
       "      <td>-0.278982</td>\n",
       "      <td>-0.527512</td>\n",
       "      <td>-0.167342</td>\n",
       "      <td>332.0</td>\n",
       "      <td>3.5</td>\n",
       "    </tr>\n",
       "    <tr>\n",
       "      <th>3</th>\n",
       "      <td>'Round Midnight (1986)</td>\n",
       "      <td>0.0</td>\n",
       "      <td>0.0</td>\n",
       "      <td>0.0</td>\n",
       "      <td>0.0</td>\n",
       "      <td>0.0</td>\n",
       "      <td>0.0</td>\n",
       "      <td>0.0</td>\n",
       "      <td>1.0</td>\n",
       "      <td>0.0</td>\n",
       "      <td>...</td>\n",
       "      <td>-0.261504</td>\n",
       "      <td>0.529154</td>\n",
       "      <td>-0.409071</td>\n",
       "      <td>0.078215</td>\n",
       "      <td>0.547655</td>\n",
       "      <td>-0.278982</td>\n",
       "      <td>-0.527512</td>\n",
       "      <td>-0.167342</td>\n",
       "      <td>377.0</td>\n",
       "      <td>3.5</td>\n",
       "    </tr>\n",
       "    <tr>\n",
       "      <th>4</th>\n",
       "      <td>'Salem's Lot (2004)</td>\n",
       "      <td>0.0</td>\n",
       "      <td>0.0</td>\n",
       "      <td>0.0</td>\n",
       "      <td>0.0</td>\n",
       "      <td>0.0</td>\n",
       "      <td>0.0</td>\n",
       "      <td>0.0</td>\n",
       "      <td>1.0</td>\n",
       "      <td>0.0</td>\n",
       "      <td>...</td>\n",
       "      <td>0.000000</td>\n",
       "      <td>0.000000</td>\n",
       "      <td>0.000000</td>\n",
       "      <td>0.000000</td>\n",
       "      <td>0.000000</td>\n",
       "      <td>0.000000</td>\n",
       "      <td>0.000000</td>\n",
       "      <td>0.000000</td>\n",
       "      <td>345.0</td>\n",
       "      <td>5.0</td>\n",
       "    </tr>\n",
       "  </tbody>\n",
       "</table>\n",
       "<p>5 rows × 1150 columns</p>\n",
       "</div>"
      ],
      "text/plain": [
       "                                     title  Action  Adventure  Animation  \\\n",
       "0                               '71 (2014)     1.0        0.0        0.0   \n",
       "1  'Hellboy': The Seeds of Creation (2004)     1.0        1.0        0.0   \n",
       "2                   'Round Midnight (1986)     0.0        0.0        0.0   \n",
       "3                   'Round Midnight (1986)     0.0        0.0        0.0   \n",
       "4                      'Salem's Lot (2004)     0.0        0.0        0.0   \n",
       "\n",
       "   Children  Comedy  Crime  Documentary  Drama  Fantasy  ...  world war ii  \\\n",
       "0       0.0     0.0    0.0          0.0    1.0      0.0  ...     -0.022545   \n",
       "1       0.0     1.0    0.0          1.0    0.0      1.0  ...      0.000000   \n",
       "2       0.0     0.0    0.0          0.0    1.0      0.0  ...     -0.261504   \n",
       "3       0.0     0.0    0.0          0.0    1.0      0.0  ...     -0.261504   \n",
       "4       0.0     0.0    0.0          0.0    1.0      0.0  ...      0.000000   \n",
       "\n",
       "   writer's life   writers   writing     wuxia      wwii    zombie   zombies  \\\n",
       "0      -0.107320 -0.882885 -0.745238 -0.387073  0.340927 -0.406665 -0.152156   \n",
       "1       0.000000  0.000000  0.000000  0.000000  0.000000  0.000000  0.000000   \n",
       "2       0.529154 -0.409071  0.078215  0.547655 -0.278982 -0.527512 -0.167342   \n",
       "3       0.529154 -0.409071  0.078215  0.547655 -0.278982 -0.527512 -0.167342   \n",
       "4       0.000000  0.000000  0.000000  0.000000  0.000000  0.000000  0.000000   \n",
       "\n",
       "   userId  rating  \n",
       "0   610.0     4.0  \n",
       "1   332.0     4.0  \n",
       "2   332.0     3.5  \n",
       "3   377.0     3.5  \n",
       "4   345.0     5.0  \n",
       "\n",
       "[5 rows x 1150 columns]"
      ]
     },
     "execution_count": 55,
     "metadata": {},
     "output_type": "execute_result"
    }
   ],
   "source": [
    "model_data.head()"
   ]
  },
  {
   "cell_type": "markdown",
   "id": "3a159009",
   "metadata": {},
   "source": [
    "### SVD"
   ]
  },
  {
   "cell_type": "code",
   "execution_count": 56,
   "id": "eb3caae4",
   "metadata": {},
   "outputs": [
    {
     "name": "stdout",
     "output_type": "stream",
     "text": [
      "RMSE: 0.8726\n"
     ]
    },
    {
     "data": {
      "text/plain": [
       "0.8725942192626042"
      ]
     },
     "execution_count": 56,
     "metadata": {},
     "output_type": "execute_result"
    }
   ],
   "source": [
    "ratings_matrix = ratings.pivot(index='userId', columns='movieId', values='rating')\n",
    "\n",
    "from surprise import SVD, KNNBasic, KNNWithMeans, SVDpp, NMF, BaselineOnly, Dataset, Reader\n",
    "from surprise.model_selection import train_test_split\n",
    "from surprise import accuracy\n",
    "\n",
    "sim_options = {\n",
    "    'name': 'cosine',\n",
    "    'user_based': True\n",
    "}\n",
    "\n",
    "reader = Reader(rating_scale=(1, 5))  \n",
    "data = Dataset.load_from_df(ratings[['userId', 'movieId', 'rating']], reader)\n",
    "\n",
    "trainset, testset = train_test_split(data, test_size=0.25)\n",
    "\n",
    "algo = SVD()\n",
    "\n",
    "algo.fit(trainset)\n",
    "predictions = algo.test(testset)\n",
    "\n",
    "accuracy.rmse(predictions)"
   ]
  },
  {
   "cell_type": "code",
   "execution_count": 57,
   "id": "448d5eaf",
   "metadata": {},
   "outputs": [
    {
     "name": "stdout",
     "output_type": "stream",
     "text": [
      "Computing the cosine similarity matrix...\n",
      "Done computing similarity matrix.\n",
      "RMSE: 0.9744\n"
     ]
    },
    {
     "data": {
      "text/plain": [
       "0.9744435545383762"
      ]
     },
     "execution_count": 57,
     "metadata": {},
     "output_type": "execute_result"
    }
   ],
   "source": [
    "algo = KNNBasic(k=40, sim_options=sim_options)\n",
    "\n",
    "algo.fit(trainset)\n",
    "predictions = algo.test(testset)\n",
    "\n",
    "accuracy.rmse(predictions)"
   ]
  },
  {
   "cell_type": "code",
   "execution_count": 58,
   "id": "316b1172",
   "metadata": {},
   "outputs": [
    {
     "name": "stdout",
     "output_type": "stream",
     "text": [
      "Computing the cosine similarity matrix...\n",
      "Done computing similarity matrix.\n",
      "RMSE: 0.8994\n"
     ]
    },
    {
     "data": {
      "text/plain": [
       "0.8994436643827473"
      ]
     },
     "execution_count": 58,
     "metadata": {},
     "output_type": "execute_result"
    }
   ],
   "source": [
    "algo = KNNWithMeans(k=40, sim_options=sim_options)\n",
    "\n",
    "algo.fit(trainset)\n",
    "predictions = algo.test(testset)\n",
    "\n",
    "accuracy.rmse(predictions)"
   ]
  },
  {
   "cell_type": "code",
   "execution_count": 59,
   "id": "427d9d6e",
   "metadata": {},
   "outputs": [
    {
     "name": "stdout",
     "output_type": "stream",
     "text": [
      "RMSE: 0.8632\n"
     ]
    },
    {
     "data": {
      "text/plain": [
       "0.8632156272878472"
      ]
     },
     "execution_count": 59,
     "metadata": {},
     "output_type": "execute_result"
    }
   ],
   "source": [
    "algo = SVDpp()\n",
    "\n",
    "algo.fit(trainset)\n",
    "predictions = algo.test(testset)\n",
    "\n",
    "accuracy.rmse(predictions)"
   ]
  },
  {
   "cell_type": "code",
   "execution_count": 60,
   "id": "9740cb90",
   "metadata": {},
   "outputs": [
    {
     "name": "stdout",
     "output_type": "stream",
     "text": [
      "RMSE: 0.9229\n"
     ]
    },
    {
     "data": {
      "text/plain": [
       "0.922934693157045"
      ]
     },
     "execution_count": 60,
     "metadata": {},
     "output_type": "execute_result"
    }
   ],
   "source": [
    "algo = NMF()\n",
    "\n",
    "algo.fit(trainset)\n",
    "predictions = algo.test(testset)\n",
    "\n",
    "accuracy.rmse(predictions)"
   ]
  },
  {
   "cell_type": "code",
   "execution_count": 61,
   "id": "f4d3c409",
   "metadata": {},
   "outputs": [
    {
     "name": "stdout",
     "output_type": "stream",
     "text": [
      "Estimating biases using als...\n",
      "RMSE: 0.8712\n"
     ]
    },
    {
     "data": {
      "text/plain": [
       "0.8711621768966498"
      ]
     },
     "execution_count": 61,
     "metadata": {},
     "output_type": "execute_result"
    }
   ],
   "source": [
    "algo = BaselineOnly()\n",
    "\n",
    "algo.fit(trainset)\n",
    "predictions = algo.test(testset)\n",
    "\n",
    "accuracy.rmse(predictions)"
   ]
  },
  {
   "cell_type": "code",
   "execution_count": null,
   "id": "f3b3e16e",
   "metadata": {},
   "outputs": [],
   "source": []
  }
 ],
 "metadata": {
  "kernelspec": {
   "display_name": "Python 3 (ipykernel)",
   "language": "python",
   "name": "python3"
  },
  "language_info": {
   "codemirror_mode": {
    "name": "ipython",
    "version": 3
   },
   "file_extension": ".py",
   "mimetype": "text/x-python",
   "name": "python",
   "nbconvert_exporter": "python",
   "pygments_lexer": "ipython3",
   "version": "3.11.5"
  }
 },
 "nbformat": 4,
 "nbformat_minor": 5
}
